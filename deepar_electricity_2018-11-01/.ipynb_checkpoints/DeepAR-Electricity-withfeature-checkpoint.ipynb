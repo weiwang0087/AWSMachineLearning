{
 "cells": [
  {
   "cell_type": "markdown",
   "metadata": {},
   "source": [
    "# SageMaker/DeepAR demo on electricity dataset\n",
    "\n",
    "This notebook complements the [DeepAR introduction notebook](https://github.com/awslabs/amazon-sagemaker-examples/blob/master/introduction_to_amazon_algorithms/deepar_synthetic/deepar_synthetic.ipynb). \n",
    "\n",
    "Here, we will consider a real use case and show how to use DeepAR on SageMaker for predicting energy consumption of 370 customers over time, based on a [dataset](https://archive.ics.uci.edu/ml/datasets/ElectricityLoadDiagrams20112014) that was used in the academic papers [[1](https://media.nips.cc/nipsbooks/nipspapers/paper_files/nips29/reviews/526.html)] and [[2](https://arxiv.org/abs/1704.04110)].  \n",
    "\n",
    "In particular, we will see how to:\n",
    "* Prepare the dataset\n",
    "* Use the SageMaker Python SDK to train a DeepAR model and deploy it\n",
    "* Make requests to the deployed model to obtain forecasts interactively\n",
    "* Illustrate advanced features of DeepAR: missing values, additional time features, non-regular frequencies and category information\n",
    "\n",
    "Running this notebook takes around 40 min on a ml.c4.2xlarge for the training, and inference is done on a ml.m4.xlarge (the usage time will depend on how long you leave your served model running).\n",
    "\n",
    "For more information see the DeepAR [documentation](https://docs.aws.amazon.com/sagemaker/latest/dg/deepar.html) or [paper](https://arxiv.org/abs/1704.04110), "
   ]
  },
  {
   "cell_type": "code",
   "execution_count": 1,
   "metadata": {},
   "outputs": [],
   "source": [
    "%matplotlib inline\n",
    "\n",
    "import sys\n",
    "from urllib.request import urlretrieve\n",
    "import zipfile\n",
    "from dateutil.parser import parse\n",
    "import json\n",
    "from random import shuffle\n",
    "import random\n",
    "import datetime\n",
    "import os\n",
    "\n",
    "import boto3\n",
    "import s3fs\n",
    "import sagemaker\n",
    "import numpy as np\n",
    "import pandas as pd\n",
    "import matplotlib.pyplot as plt\n",
    "\n",
    "from __future__ import print_function\n",
    "from ipywidgets import interact, interactive, fixed, interact_manual\n",
    "import ipywidgets as widgets\n",
    "from ipywidgets import IntSlider, FloatSlider, Checkbox"
   ]
  },
  {
   "cell_type": "code",
   "execution_count": 2,
   "metadata": {},
   "outputs": [],
   "source": [
    "# set random seeds for reproducibility\n",
    "np.random.seed(42)\n",
    "random.seed(42)"
   ]
  },
  {
   "cell_type": "code",
   "execution_count": 3,
   "metadata": {},
   "outputs": [],
   "source": [
    "sagemaker_session = sagemaker.Session()"
   ]
  },
  {
   "cell_type": "markdown",
   "metadata": {},
   "source": [
    "Before starting, we can override the default values for the following:\n",
    "- The S3 bucket and prefix that you want to use for training and model data. This should be within the same region as the Notebook Instance, training, and hosting.\n",
    "- The IAM role arn used to give training and hosting access to your data. See the documentation for how to create these."
   ]
  },
  {
   "cell_type": "code",
   "execution_count": 4,
   "metadata": {},
   "outputs": [],
   "source": [
    "# s3_bucket = sagemaker.Session().default_bucket()  # replace with an existing bucket if needed\n",
    "s3_bucket = 'forcasting-project-group'\n",
    "s3_prefix = 'deepar-electricity-demo-notebook'    # prefix used for all data stored within the bucket\n",
    "\n",
    "role = sagemaker.get_execution_role()             # IAM role to use by SageMaker"
   ]
  },
  {
   "cell_type": "code",
   "execution_count": 5,
   "metadata": {},
   "outputs": [],
   "source": [
    "region = sagemaker_session.boto_region_name\n",
    "\n",
    "s3_data_path = \"s3://{}/{}/data_feature\".format(s3_bucket, s3_prefix)\n",
    "s3_output_path = \"s3://{}/{}/output_feature\".format(s3_bucket, s3_prefix)"
   ]
  },
  {
   "cell_type": "markdown",
   "metadata": {},
   "source": [
    "Next, we configure the container image to be used for the region that we are running in."
   ]
  },
  {
   "cell_type": "code",
   "execution_count": 6,
   "metadata": {},
   "outputs": [],
   "source": [
    "image_name = sagemaker.amazon.amazon_estimator.get_image_uri(region, \"forecasting-deepar\", \"latest\")"
   ]
  },
  {
   "cell_type": "markdown",
   "metadata": {},
   "source": [
    "### Import electricity dataset and upload it to S3 to make it available for Sagemaker"
   ]
  },
  {
   "cell_type": "markdown",
   "metadata": {},
   "source": [
    "As a first step, we need to download the original data set of from the UCI data set repository."
   ]
  },
  {
   "cell_type": "code",
   "execution_count": 8,
   "metadata": {},
   "outputs": [],
   "source": [
    "DATA_HOST = \"https://archive.ics.uci.edu\"\n",
    "DATA_PATH = \"/ml/machine-learning-databases/00321/\"\n",
    "ARCHIVE_NAME = \"LD2011_2014.txt.zip\"\n",
    "FILE_NAME = ARCHIVE_NAME[:-4]"
   ]
  },
  {
   "cell_type": "code",
   "execution_count": 9,
   "metadata": {},
   "outputs": [
    {
     "name": "stdout",
     "output_type": "stream",
     "text": [
      "File found skipping download\n"
     ]
    }
   ],
   "source": [
    "def progress_report_hook(count, block_size, total_size):\n",
    "    mb = int(count * block_size // 1e6)\n",
    "    if count % 500 == 0:\n",
    "        sys.stdout.write(\"\\r{} MB downloaded\".format(mb))\n",
    "        sys.stdout.flush()\n",
    "\n",
    "if not os.path.isfile(FILE_NAME):\n",
    "    print(\"downloading dataset (258MB), can take a few minutes depending on your connection\")\n",
    "    urlretrieve(DATA_HOST + DATA_PATH + ARCHIVE_NAME, ARCHIVE_NAME, reporthook=progress_report_hook)\n",
    "\n",
    "    print(\"\\nextracting data archive\")\n",
    "    zip_ref = zipfile.ZipFile(ARCHIVE_NAME, 'r')\n",
    "    zip_ref.extractall(\"./\")\n",
    "    zip_ref.close()\n",
    "else:\n",
    "    print(\"File found skipping download\")"
   ]
  },
  {
   "cell_type": "markdown",
   "metadata": {},
   "source": [
    "Then, we load and parse the dataset and convert it to a collection of Pandas time series, which makes common time series operations such as indexing by time periods or resampling much easier. The data is originally recorded in 15min interval, which we could use directly. Here we want to forecast longer periods (one week) and resample the data to a granularity of 2 hours."
   ]
  },
  {
   "cell_type": "code",
   "execution_count": null,
   "metadata": {},
   "outputs": [],
   "source": [
    "# data = pd.read_csv(FILE_NAME, sep=\";\", index_col=0, parse_dates=True, decimal=',')\n",
    "# num_timeseries = data.shape[1]\n",
    "# data_kw = data.resample('2H').sum() / 8\n",
    "# timeseries = []\n",
    "# for i in range(num_timeseries):\n",
    "#     timeseries.append(np.trim_zeros(data_kw.iloc[:,i], trim='f'))\n",
    "# data.describe()"
   ]
  },
  {
   "cell_type": "code",
   "execution_count": null,
   "metadata": {},
   "outputs": [],
   "source": [
    "# print(num_timeseries)\n",
    "# print(len(timeseries))"
   ]
  },
  {
   "cell_type": "code",
   "execution_count": 73,
   "metadata": {},
   "outputs": [
    {
     "name": "stdout",
     "output_type": "stream",
     "text": [
      "(5113, 16)\n",
      "5113\n",
      "19940101\n"
     ]
    }
   ],
   "source": [
    "#load data arne_data.csv \n",
    "arne_data = pd.read_csv('arne_data.csv')\n",
    "arne_data.iloc[:,1] = arne_data.iloc[:,1]/32645700.0\n",
    "\n",
    "print(arne_data.shape)\n",
    "# print(arne_data.describe())\n",
    "num_arne_timeseries = arne_data.shape[0]\n",
    "print(num_arne_timeseries)\n",
    "arne_timeseries = arne_data.iloc[:,0]\n",
    "print(arne_timeseries[0])\n"
   ]
  },
  {
   "cell_type": "code",
   "execution_count": 83,
   "metadata": {},
   "outputs": [
    {
     "data": {
      "text/plain": [
       "<matplotlib.axes._subplots.AxesSubplot at 0x7fc349bb5400>"
      ]
     },
     "execution_count": 83,
     "metadata": {},
     "output_type": "execute_result"
    },
    {
     "data": {
      "image/png": "[encoded data removed]",
      "text/plain": [
       "<Figure size 432x288 with 1 Axes>"
      ]
     },
     "metadata": {},
     "output_type": "display_data"
    }
   ],
   "source": [
    "arne_data['ARNE'][1:365].plot.line()"
   ]
  },
  {
   "cell_type": "code",
   "execution_count": 112,
   "metadata": {},
   "outputs": [
    {
     "data": {
      "text/plain": [
       "<matplotlib.axes._subplots.AxesSubplot at 0x7fc349883470>"
      ]
     },
     "execution_count": 112,
     "metadata": {},
     "output_type": "execute_result"
    },
    {
     "data": {
      "image/png": "[encoded data removed]",
      "text/plain": [
       "<Figure size 432x288 with 1 Axes>"
      ]
     },
     "metadata": {},
     "output_type": "display_data"
    }
   ],
   "source": [
    "arne_data['Upward_Long-Wave_Rad_Flux_surface'][1:365].plot.line()"
   ]
  },
  {
   "cell_type": "code",
   "execution_count": 88,
   "metadata": {},
   "outputs": [
    {
     "name": "stdout",
     "output_type": "stream",
     "text": [
      "                                           Date      ARNE  Total_cloud_cover  \\\n",
      "Date                                   1.000000 -0.007704           0.012155   \n",
      "ARNE                                  -0.007704  1.000000          -0.190883   \n",
      "Total_cloud_cover                      0.012155 -0.190883           1.000000   \n",
      "Total_precipitation                   -0.002634 -0.128933           0.616044   \n",
      "Downward_Long-Wave_Rad_Flux            0.019958  0.658086          -0.067869   \n",
      "Downward_Short-Wave_Rad_Flux          -0.032487  0.157710          -0.024052   \n",
      "Pressure                               0.020421 -0.302319          -0.018786   \n",
      "Precipitable_water                     0.022207  0.380930           0.192421   \n",
      "Specific_humidity_height_above_ground  0.028543  0.432908           0.068409   \n",
      "Total_Column-Integrated_Condensate     0.012066 -0.190793           0.999982   \n",
      "Minimum_temperature                    0.025446  0.635022          -0.046588   \n",
      "Temperature_height_above_ground        0.025395  0.632230          -0.043042   \n",
      "Temperature_surface                    0.024498  0.623710          -0.010962   \n",
      "Upward_Long-Wave_Rad_Flux_surface      0.021529  0.639592          -0.032972   \n",
      "Upward_Long-Wave_Rad_Flux             -0.003248  0.443060          -0.537688   \n",
      "Maximum_temperature                    0.019958  0.658086          -0.067869   \n",
      "\n",
      "                                       Total_precipitation  \\\n",
      "Date                                             -0.002634   \n",
      "ARNE                                             -0.128933   \n",
      "Total_cloud_cover                                 0.616044   \n",
      "Total_precipitation                               1.000000   \n",
      "Downward_Long-Wave_Rad_Flux                       0.044134   \n",
      "Downward_Short-Wave_Rad_Flux                     -0.008826   \n",
      "Pressure                                         -0.058801   \n",
      "Precipitable_water                                0.252007   \n",
      "Specific_humidity_height_above_ground             0.191626   \n",
      "Total_Column-Integrated_Condensate                0.616199   \n",
      "Minimum_temperature                               0.056954   \n",
      "Temperature_height_above_ground                   0.060149   \n",
      "Temperature_surface                               0.080659   \n",
      "Upward_Long-Wave_Rad_Flux_surface                 0.068920   \n",
      "Upward_Long-Wave_Rad_Flux                        -0.332614   \n",
      "Maximum_temperature                               0.044134   \n",
      "\n",
      "                                       Downward_Long-Wave_Rad_Flux  \\\n",
      "Date                                                      0.019958   \n",
      "ARNE                                                      0.658086   \n",
      "Total_cloud_cover                                        -0.067869   \n",
      "Total_precipitation                                       0.044134   \n",
      "Downward_Long-Wave_Rad_Flux                               1.000000   \n",
      "Downward_Short-Wave_Rad_Flux                              0.158526   \n",
      "Pressure                                                 -0.584322   \n",
      "Precipitable_water                                        0.751887   \n",
      "Specific_humidity_height_above_ground                     0.789652   \n",
      "Total_Column-Integrated_Condensate                       -0.067718   \n",
      "Minimum_temperature                                       0.988961   \n",
      "Temperature_height_above_ground                           0.987494   \n",
      "Temperature_surface                                       0.984924   \n",
      "Upward_Long-Wave_Rad_Flux_surface                         0.992326   \n",
      "Upward_Long-Wave_Rad_Flux                                 0.487523   \n",
      "Maximum_temperature                                       1.000000   \n",
      "\n",
      "                                       Downward_Short-Wave_Rad_Flux  Pressure  \\\n",
      "Date                                                      -0.032487  0.020421   \n",
      "ARNE                                                       0.157710 -0.302319   \n",
      "Total_cloud_cover                                         -0.024052 -0.018786   \n",
      "Total_precipitation                                       -0.008826 -0.058801   \n",
      "Downward_Long-Wave_Rad_Flux                                0.158526 -0.584322   \n",
      "Downward_Short-Wave_Rad_Flux                               1.000000 -0.082647   \n",
      "Pressure                                                  -0.082647  1.000000   \n",
      "Precipitable_water                                         0.140260 -0.316603   \n",
      "Specific_humidity_height_above_ground                      0.173109 -0.416563   \n",
      "Total_Column-Integrated_Condensate                        -0.023994 -0.019066   \n",
      "Minimum_temperature                                        0.158793 -0.584662   \n",
      "Temperature_height_above_ground                            0.160569 -0.589243   \n",
      "Temperature_surface                                        0.164334 -0.580029   \n",
      "Upward_Long-Wave_Rad_Flux_surface                          0.162354 -0.567389   \n",
      "Upward_Long-Wave_Rad_Flux                                  0.071658 -0.230230   \n",
      "Maximum_temperature                                        0.158526 -0.584322   \n",
      "\n",
      "                                       Precipitable_water  \\\n",
      "Date                                             0.022207   \n",
      "ARNE                                             0.380930   \n",
      "Total_cloud_cover                                0.192421   \n",
      "Total_precipitation                              0.252007   \n",
      "Downward_Long-Wave_Rad_Flux                      0.751887   \n",
      "Downward_Short-Wave_Rad_Flux                     0.140260   \n",
      "Pressure                                        -0.316603   \n",
      "Precipitable_water                               1.000000   \n",
      "Specific_humidity_height_above_ground            0.897449   \n",
      "Total_Column-Integrated_Condensate               0.192305   \n",
      "Minimum_temperature                              0.781349   \n",
      "Temperature_height_above_ground                  0.784378   \n",
      "Temperature_surface                              0.810875   \n",
      "Upward_Long-Wave_Rad_Flux_surface                0.799475   \n",
      "Upward_Long-Wave_Rad_Flux                        0.136260   \n",
      "Maximum_temperature                              0.751887   \n",
      "\n",
      "                                       Specific_humidity_height_above_ground  \\\n",
      "Date                                                                0.028543   \n",
      "ARNE                                                                0.432908   \n",
      "Total_cloud_cover                                                   0.068409   \n",
      "Total_precipitation                                                 0.191626   \n",
      "Downward_Long-Wave_Rad_Flux                                         0.789652   \n",
      "Downward_Short-Wave_Rad_Flux                                        0.173109   \n",
      "Pressure                                                           -0.416563   \n",
      "Precipitable_water                                                  0.897449   \n",
      "Specific_humidity_height_above_ground                               1.000000   \n",
      "Total_Column-Integrated_Condensate                                  0.068317   \n",
      "Minimum_temperature                                                 0.819504   \n",
      "Temperature_height_above_ground                                     0.823131   \n",
      "Temperature_surface                                                 0.843070   \n",
      "Upward_Long-Wave_Rad_Flux_surface                                   0.829127   \n",
      "Upward_Long-Wave_Rad_Flux                                           0.281217   \n",
      "Maximum_temperature                                                 0.789652   \n",
      "\n",
      "                                       Total_Column-Integrated_Condensate  \\\n",
      "Date                                                             0.012066   \n",
      "ARNE                                                            -0.190793   \n",
      "Total_cloud_cover                                                0.999982   \n",
      "Total_precipitation                                              0.616199   \n",
      "Downward_Long-Wave_Rad_Flux                                     -0.067718   \n",
      "Downward_Short-Wave_Rad_Flux                                    -0.023994   \n",
      "Pressure                                                        -0.019066   \n",
      "Precipitable_water                                               0.192305   \n",
      "Specific_humidity_height_above_ground                            0.068317   \n",
      "Total_Column-Integrated_Condensate                               1.000000   \n",
      "Minimum_temperature                                             -0.046479   \n",
      "Temperature_height_above_ground                                 -0.042942   \n",
      "Temperature_surface                                             -0.010880   \n",
      "Upward_Long-Wave_Rad_Flux_surface                               -0.032843   \n",
      "Upward_Long-Wave_Rad_Flux                                       -0.537282   \n",
      "Maximum_temperature                                             -0.067718   \n",
      "\n",
      "                                       Minimum_temperature  \\\n",
      "Date                                              0.025446   \n",
      "ARNE                                              0.635022   \n",
      "Total_cloud_cover                                -0.046588   \n",
      "Total_precipitation                               0.056954   \n",
      "Downward_Long-Wave_Rad_Flux                       0.988961   \n",
      "Downward_Short-Wave_Rad_Flux                      0.158793   \n",
      "Pressure                                         -0.584662   \n",
      "Precipitable_water                                0.781349   \n",
      "Specific_humidity_height_above_ground             0.819504   \n",
      "Total_Column-Integrated_Condensate               -0.046479   \n",
      "Minimum_temperature                               1.000000   \n",
      "Temperature_height_above_ground                   0.998616   \n",
      "Temperature_surface                               0.995772   \n",
      "Upward_Long-Wave_Rad_Flux_surface                 0.992870   \n",
      "Upward_Long-Wave_Rad_Flux                         0.464341   \n",
      "Maximum_temperature                               0.988961   \n",
      "\n",
      "                                       Temperature_height_above_ground  \\\n",
      "Date                                                          0.025395   \n",
      "ARNE                                                          0.632230   \n",
      "Total_cloud_cover                                            -0.043042   \n",
      "Total_precipitation                                           0.060149   \n",
      "Downward_Long-Wave_Rad_Flux                                   0.987494   \n",
      "Downward_Short-Wave_Rad_Flux                                  0.160569   \n",
      "Pressure                                                     -0.589243   \n",
      "Precipitable_water                                            0.784378   \n",
      "Specific_humidity_height_above_ground                         0.823131   \n",
      "Total_Column-Integrated_Condensate                           -0.042942   \n",
      "Minimum_temperature                                           0.998616   \n",
      "Temperature_height_above_ground                               1.000000   \n",
      "Temperature_surface                                           0.996681   \n",
      "Upward_Long-Wave_Rad_Flux_surface                             0.991025   \n",
      "Upward_Long-Wave_Rad_Flux                                     0.462136   \n",
      "Maximum_temperature                                           0.987494   \n",
      "\n",
      "                                       Temperature_surface  \\\n",
      "Date                                              0.024498   \n",
      "ARNE                                              0.623710   \n",
      "Total_cloud_cover                                -0.010962   \n",
      "Total_precipitation                               0.080659   \n",
      "Downward_Long-Wave_Rad_Flux                       0.984924   \n",
      "Downward_Short-Wave_Rad_Flux                      0.164334   \n",
      "Pressure                                         -0.580029   \n",
      "Precipitable_water                                0.810875   \n",
      "Specific_humidity_height_above_ground             0.843070   \n",
      "Total_Column-Integrated_Condensate               -0.010880   \n",
      "Minimum_temperature                               0.995772   \n",
      "Temperature_height_above_ground                   0.996681   \n",
      "Temperature_surface                               1.000000   \n",
      "Upward_Long-Wave_Rad_Flux_surface                 0.994347   \n",
      "Upward_Long-Wave_Rad_Flux                         0.439594   \n",
      "Maximum_temperature                               0.984924   \n",
      "\n",
      "                                       Upward_Long-Wave_Rad_Flux_surface  \\\n",
      "Date                                                            0.021529   \n",
      "ARNE                                                            0.639592   \n",
      "Total_cloud_cover                                              -0.032972   \n",
      "Total_precipitation                                             0.068920   \n",
      "Downward_Long-Wave_Rad_Flux                                     0.992326   \n",
      "Downward_Short-Wave_Rad_Flux                                    0.162354   \n",
      "Pressure                                                       -0.567389   \n",
      "Precipitable_water                                              0.799475   \n",
      "Specific_humidity_height_above_ground                           0.829127   \n",
      "Total_Column-Integrated_Condensate                             -0.032843   \n",
      "Minimum_temperature                                             0.992870   \n",
      "Temperature_height_above_ground                                 0.991025   \n",
      "Temperature_surface                                             0.994347   \n",
      "Upward_Long-Wave_Rad_Flux_surface                               1.000000   \n",
      "Upward_Long-Wave_Rad_Flux                                       0.455840   \n",
      "Maximum_temperature                                             0.992326   \n",
      "\n",
      "                                       Upward_Long-Wave_Rad_Flux  \\\n",
      "Date                                                   -0.003248   \n",
      "ARNE                                                    0.443060   \n",
      "Total_cloud_cover                                      -0.537688   \n",
      "Total_precipitation                                    -0.332614   \n",
      "Downward_Long-Wave_Rad_Flux                             0.487523   \n",
      "Downward_Short-Wave_Rad_Flux                            0.071658   \n",
      "Pressure                                               -0.230230   \n",
      "Precipitable_water                                      0.136260   \n",
      "Specific_humidity_height_above_ground                   0.281217   \n",
      "Total_Column-Integrated_Condensate                     -0.537282   \n",
      "Minimum_temperature                                     0.464341   \n",
      "Temperature_height_above_ground                         0.462136   \n",
      "Temperature_surface                                     0.439594   \n",
      "Upward_Long-Wave_Rad_Flux_surface                       0.455840   \n",
      "Upward_Long-Wave_Rad_Flux                               1.000000   \n",
      "Maximum_temperature                                     0.487523   \n",
      "\n",
      "                                       Maximum_temperature  \n",
      "Date                                              0.019958  \n",
      "ARNE                                              0.658086  \n",
      "Total_cloud_cover                                -0.067869  \n",
      "Total_precipitation                               0.044134  \n",
      "Downward_Long-Wave_Rad_Flux                       1.000000  \n",
      "Downward_Short-Wave_Rad_Flux                      0.158526  \n",
      "Pressure                                         -0.584322  \n",
      "Precipitable_water                                0.751887  \n",
      "Specific_humidity_height_above_ground             0.789652  \n",
      "Total_Column-Integrated_Condensate               -0.067718  \n",
      "Minimum_temperature                               0.988961  \n",
      "Temperature_height_above_ground                   0.987494  \n",
      "Temperature_surface                               0.984924  \n",
      "Upward_Long-Wave_Rad_Flux_surface                 0.992326  \n",
      "Upward_Long-Wave_Rad_Flux                         0.487523  \n",
      "Maximum_temperature                               1.000000  \n"
     ]
    }
   ],
   "source": [
    "print(arne_data.corr())"
   ]
  },
  {
   "cell_type": "code",
   "execution_count": 89,
   "metadata": {},
   "outputs": [
    {
     "data": {
      "text/plain": [
       "<matplotlib.image.AxesImage at 0x7fc349952cc0>"
      ]
     },
     "execution_count": 89,
     "metadata": {},
     "output_type": "execute_result"
    },
    {
     "data": {
      "image/png": "[encoded data removed]",
      "text/plain": [
       "<Figure size 288x288 with 1 Axes>"
      ]
     },
     "metadata": {},
     "output_type": "display_data"
    }
   ],
   "source": [
    "plt.matshow(arne_data.corr())\n"
   ]
  },
  {
   "cell_type": "code",
   "execution_count": null,
   "metadata": {},
   "outputs": [],
   "source": [
    "# print(type(timeseries))\n",
    "# fig, axs = plt.subplots(5, 2, figsize=(20, 20), sharex=True)\n",
    "# axx = axs.ravel()\n",
    "# for i in range(0, 10):\n",
    "#     timeseries[i].loc[\"2014-01-01\":\"2014-01-14\"].plot(ax=axx[i])\n",
    "#     axx[i].set_xlabel(\"date\")    \n",
    "#     axx[i].set_ylabel(\"kW consumption\")   \n",
    "#     axx[i].grid(which='minor', axis='x')"
   ]
  },
  {
   "cell_type": "code",
   "execution_count": 124,
   "metadata": {},
   "outputs": [],
   "source": [
    "test_data = arne_data.drop('Date', 1)\n",
    "test_data2 = test_data['ARNE'].rolling(10).mean()\n",
    "test_data2[0:9] = test_data['ARNE'][0:9]"
   ]
  },
  {
   "cell_type": "code",
   "execution_count": 125,
   "metadata": {},
   "outputs": [
    {
     "data": {
      "text/plain": [
       "<matplotlib.axes._subplots.AxesSubplot at 0x7fc349871940>"
      ]
     },
     "execution_count": 125,
     "metadata": {},
     "output_type": "execute_result"
    },
    {
     "data": {
      "image/png": "[encoded data removed]",
      "text/plain": [
       "<Figure size 432x288 with 1 Axes>"
      ]
     },
     "metadata": {},
     "output_type": "display_data"
    }
   ],
   "source": [
    "test_data['ARNE'][1:365].plot.line()"
   ]
  },
  {
   "cell_type": "code",
   "execution_count": 126,
   "metadata": {},
   "outputs": [
    {
     "data": {
      "text/plain": [
       "<matplotlib.axes._subplots.AxesSubplot at 0x7fc349837b38>"
      ]
     },
     "execution_count": 126,
     "metadata": {},
     "output_type": "execute_result"
    },
    {
     "data": {
      "image/png": "[encoded data removed]",
      "text/plain": [
       "<Figure size 432x288 with 1 Axes>"
      ]
     },
     "metadata": {},
     "output_type": "display_data"
    }
   ],
   "source": [
    "test_data2[1:365].plot.line()"
   ]
  },
  {
   "cell_type": "code",
   "execution_count": 127,
   "metadata": {},
   "outputs": [],
   "source": [
    "# rolling min in Downward_Long-Wave_Rad_Flux\n",
    "feature_data = test_data['Downward_Long-Wave_Rad_Flux']\n",
    "feature_data2 = feature_data.rolling(10).mean()\n",
    "feature_data2[0:9] = feature_data[0:9]"
   ]
  },
  {
   "cell_type": "code",
   "execution_count": 128,
   "metadata": {},
   "outputs": [
    {
     "data": {
      "text/plain": [
       "<matplotlib.axes._subplots.AxesSubplot at 0x7fc3497d4080>"
      ]
     },
     "execution_count": 128,
     "metadata": {},
     "output_type": "execute_result"
    },
    {
     "data": {
      "image/png": "[encoded data removed]",
      "text/plain": [
       "<Figure size 432x288 with 1 Axes>"
      ]
     },
     "metadata": {},
     "output_type": "display_data"
    }
   ],
   "source": [
    "feature_data2[1:365].plot.line()"
   ]
  },
  {
   "cell_type": "markdown",
   "metadata": {},
   "source": [
    "Let us plot the resulting time series for the first ten customers for the time period spanning the first two weeks of 2014."
   ]
  },
  {
   "cell_type": "markdown",
   "metadata": {},
   "source": [
    "### Train and Test splits\n",
    "\n",
    "Often times one is interested in evaluating the model or tuning its hyperparameters by looking at error metrics on a hold-out test set. Here we split the available data into train and test sets for evaluating the trained model. For standard machine learning tasks such as classification and regression, one typically obtains this split by randomly separating examples into train and test sets. However, in forecasting it is important to do this train/test split based on time rather than by time series.\n",
    "\n",
    "In this example, we will reserve the last section of each of the time series for evalutation purpose and use only the first part as training data. "
   ]
  },
  {
   "cell_type": "code",
   "execution_count": 129,
   "metadata": {},
   "outputs": [],
   "source": [
    "# we use 2 hour frequency for the time series\n",
    "# freq = '2H'\n",
    "# use 7 days frequency for the time series\n",
    "freq = '1D'\n",
    "\n",
    "# we predict for 7 days\n",
    "#prediction_length = 7 * 12\n",
    "# predict for 364 days\n",
    "prediction_length = 1   \n",
    "\n",
    "# we also use 7 days as context length, this is the number of state updates accomplished before making predictions\n",
    "# context_length = 7 * 12\n",
    "context_length = 7  "
   ]
  },
  {
   "cell_type": "markdown",
   "metadata": {},
   "source": [
    "We specify here the portion of the data that is used for training: the model sees data from 2014-01-01 to 2014-09-01 for training."
   ]
  },
  {
   "cell_type": "code",
   "execution_count": null,
   "metadata": {},
   "outputs": [],
   "source": [
    "# start_dataset = pd.Timestamp(\"2014-01-01 00:00:00\", freq=freq)\n",
    "# end_training = pd.Timestamp(\"2014-09-01 00:00:00\", freq=freq)"
   ]
  },
  {
   "cell_type": "markdown",
   "metadata": {},
   "source": [
    "The DeepAR JSON input format represents each time series as a JSON object. In the simplest case each time series just consists of a start time stamp (``start``) and a list of values (``target``). For more complex cases, DeepAR also supports the fields ``dynamic_feat`` for time-series features and ``cat`` for categorical features, which we will use  later."
   ]
  },
  {
   "cell_type": "code",
   "execution_count": null,
   "metadata": {},
   "outputs": [],
   "source": [
    "# training_data = [\n",
    "#     {\n",
    "#         \"start\": str(start_dataset),\n",
    "#         \"target\": ts[start_dataset:end_training - 1].tolist()  # We use -1, because pandas indexing includes the upper bound \n",
    "#     }\n",
    "#     for ts in timeseries\n",
    "# ]\n",
    "# print(len(training_data))"
   ]
  },
  {
   "cell_type": "code",
   "execution_count": 130,
   "metadata": {},
   "outputs": [
    {
     "name": "stdout",
     "output_type": "stream",
     "text": [
      "1994-01-01 00:00:00\n",
      "2004-12-04 00:00:00\n",
      "133\n"
     ]
    }
   ],
   "source": [
    "arne_ysize = 30 \n",
    "\n",
    "arne_training_data = []\n",
    "rowcnt = 0\n",
    "# print(arne_data.iloc[0:0+30,1].tolist())\n",
    "arne_start_dataset = pd.Timestamp(\"1994-01-01 00:00:00\", freq=freq)\n",
    "print( str(arne_start_dataset) )\n",
    "# print( str(arne_start_dataset + pd.Timedelta(days=30)) )\n",
    "while rowcnt < 3990:\n",
    "    tmp_dict = {}\n",
    "    tmp_dict[\"start\"] = str(arne_start_dataset)\n",
    "#     tmp_dict[\"target\"] = arne_data.iloc[rowcnt:rowcnt+arne_ysize,1].tolist()\n",
    "    tmp_dict[\"target\"] = test_data2[rowcnt:rowcnt+arne_ysize].tolist() \n",
    "    tmp_dict[\"dynamic_feat\"] = []\n",
    "#     tmp_dict[\"dynamic_feat\"].append(arne_data.iloc[rowcnt:rowcnt+arne_ysize,4].tolist())\n",
    "    tmp_dict[\"dynamic_feat\"].append(feature_data2[rowcnt:rowcnt+arne_ysize].tolist())\n",
    "    rowcnt = rowcnt + arne_ysize\n",
    "    arne_start_dataset = arne_start_dataset + pd.Timedelta(days=arne_ysize)\n",
    "    arne_training_data.append(tmp_dict)\n",
    "\n",
    "print( str(arne_start_dataset) )\n",
    "print(len(arne_training_data))"
   ]
  },
  {
   "cell_type": "code",
   "execution_count": 131,
   "metadata": {},
   "outputs": [
    {
     "name": "stdout",
     "output_type": "stream",
     "text": [
      "2004-12-04 00:00:00\n",
      "2007-09-20 00:00:00\n",
      "34\n"
     ]
    }
   ],
   "source": [
    "print( str(arne_start_dataset) )\n",
    "arne_test_data = []\n",
    "\n",
    "# print( str(arne_start_dataset + pd.Timedelta(days=30)) )\n",
    "while rowcnt < 5010:\n",
    "    tmp_dict = {}\n",
    "    tmp_dict[\"start\"] = str(arne_start_dataset)\n",
    "#     tmp_dict[\"target\"] = arne_data.iloc[rowcnt:rowcnt+arne_ysize,1].tolist() \n",
    "    tmp_dict[\"target\"] = test_data2[rowcnt:rowcnt+arne_ysize].tolist() \n",
    "    tmp_dict[\"dynamic_feat\"] = []\n",
    "#     tmp_dict[\"dynamic_feat\"].append(arne_data.iloc[rowcnt:rowcnt+arne_ysize,4].tolist())\n",
    "    tmp_dict[\"dynamic_feat\"].append(feature_data2[rowcnt:rowcnt+arne_ysize].tolist())\n",
    "    rowcnt = rowcnt + arne_ysize\n",
    "    arne_start_dataset = arne_start_dataset + pd.Timedelta(days=arne_ysize)\n",
    "    arne_test_data.append(tmp_dict)\n",
    "\n",
    "print( str(arne_start_dataset) )\n",
    "print(len(arne_test_data))\n"
   ]
  },
  {
   "cell_type": "markdown",
   "metadata": {},
   "source": [
    "As test data, we will consider time series extending beyond the training range: these will be used for computing test scores, by using the trained model to forecast their trailing 7 days, and comparing predictions with actual values.\n",
    "To evaluate our model performance on more than one week, we generate test data that extends to 1, 2, 3, 4 weeks beyond the training range. This way we perform *rolling evaluation* of our model."
   ]
  },
  {
   "cell_type": "code",
   "execution_count": null,
   "metadata": {},
   "outputs": [],
   "source": [
    "# num_test_windows = 4\n",
    "\n",
    "# test_data = [\n",
    "#     {\n",
    "#         \"start\": str(start_dataset),\n",
    "#         \"target\": ts[start_dataset:end_training + k * prediction_length].tolist()\n",
    "#     }\n",
    "#     for k in range(1, num_test_windows + 1) \n",
    "#     for ts in timeseries\n",
    "# ]\n",
    "# print(len(test_data))"
   ]
  },
  {
   "cell_type": "markdown",
   "metadata": {},
   "source": [
    "Let's now write the dictionary to the `jsonlines` file format that DeepAR understands (it also supports gzipped jsonlines and parquet)."
   ]
  },
  {
   "cell_type": "code",
   "execution_count": 132,
   "metadata": {},
   "outputs": [],
   "source": [
    "def write_dicts_to_file(path, data):\n",
    "    with open(path, 'wb') as fp:\n",
    "        for d in data:\n",
    "            fp.write(json.dumps(d).encode(\"utf-8\"))\n",
    "            fp.write(\"\\n\".encode('utf-8'))"
   ]
  },
  {
   "cell_type": "code",
   "execution_count": null,
   "metadata": {},
   "outputs": [],
   "source": [
    "# %%time\n",
    "# write_dicts_to_file(\"train.json\", training_data)\n",
    "# write_dicts_to_file(\"test.json\", test_data)"
   ]
  },
  {
   "cell_type": "code",
   "execution_count": 133,
   "metadata": {},
   "outputs": [
    {
     "name": "stdout",
     "output_type": "stream",
     "text": [
      "CPU times: user 10.6 ms, sys: 0 ns, total: 10.6 ms\n",
      "Wall time: 9.85 ms\n"
     ]
    }
   ],
   "source": [
    "%%time\n",
    "write_dicts_to_file(\"arnetrain_feature.json\", arne_training_data)\n",
    "write_dicts_to_file(\"arnetest_feature.json\", arne_test_data)"
   ]
  },
  {
   "cell_type": "markdown",
   "metadata": {},
   "source": [
    "Now that we have the data files locally, let us copy them to S3 where DeepAR can access them. Depending on your connection, this may take a couple of minutes."
   ]
  },
  {
   "cell_type": "code",
   "execution_count": 134,
   "metadata": {},
   "outputs": [],
   "source": [
    "s3 = boto3.resource('s3')\n",
    "def copy_to_s3(local_file, s3_path, override=False):\n",
    "    assert s3_path.startswith('s3://')\n",
    "    split = s3_path.split('/')\n",
    "    bucket = split[2]\n",
    "    path = '/'.join(split[3:])\n",
    "    buk = s3.Bucket(bucket)\n",
    "    \n",
    "    if len(list(buk.objects.filter(Prefix=path))) > 0:\n",
    "        if not override:\n",
    "            print('File s3://{}/{} already exists.\\nSet override to upload anyway.\\n'.format(s3_bucket, s3_path))\n",
    "            return\n",
    "        else:\n",
    "            print('Overwriting existing file')\n",
    "    with open(local_file, 'rb') as data:\n",
    "        print('Uploading file to {}'.format(s3_path))\n",
    "        buk.put_object(Key=path, Body=data)"
   ]
  },
  {
   "cell_type": "code",
   "execution_count": null,
   "metadata": {},
   "outputs": [],
   "source": [
    "%%time\n",
    "# copy_to_s3(\"train.json\", s3_data_path + \"/train/train.json\")\n",
    "# copy_to_s3(\"test.json\", s3_data_path + \"/test/test.json\")"
   ]
  },
  {
   "cell_type": "code",
   "execution_count": 135,
   "metadata": {},
   "outputs": [
    {
     "name": "stdout",
     "output_type": "stream",
     "text": [
      "Overwriting existing file\n",
      "Uploading file to s3://forcasting-project-group/deepar-electricity-demo-notebook/data_feature/train/arnetrain_feature.json\n",
      "Overwriting existing file\n",
      "Uploading file to s3://forcasting-project-group/deepar-electricity-demo-notebook/data_feature/test/arnetest_feature.json\n",
      "CPU times: user 33 ms, sys: 0 ns, total: 33 ms\n",
      "Wall time: 225 ms\n"
     ]
    }
   ],
   "source": [
    "%%time\n",
    "copy_to_s3(\"arnetrain_feature.json\", s3_data_path + \"/train/arnetrain_feature.json\", True)\n",
    "copy_to_s3(\"arnetest_feature.json\", s3_data_path + \"/test/arnetest_feature.json\", True)"
   ]
  },
  {
   "cell_type": "markdown",
   "metadata": {},
   "source": [
    "Let's have a look to what we just wrote to S3."
   ]
  },
  {
   "cell_type": "code",
   "execution_count": null,
   "metadata": {},
   "outputs": [],
   "source": [
    "# s3filesystem = s3fs.S3FileSystem()\n",
    "# with s3filesystem.open(s3_data_path + \"/train/train.json\", 'rb') as fp:\n",
    "#     print(fp.readline().decode(\"utf-8\")[:100] + \"...\")"
   ]
  },
  {
   "cell_type": "code",
   "execution_count": 136,
   "metadata": {},
   "outputs": [
    {
     "name": "stdout",
     "output_type": "stream",
     "text": [
      "{\"start\": \"1994-01-01 00:00:00\", \"target\": [0.32794824433233166, 0.2469697387404773, 0.3558937317931...\n"
     ]
    }
   ],
   "source": [
    "s3filesystem = s3fs.S3FileSystem()\n",
    "with s3filesystem.open(s3_data_path + \"/train/arnetrain_feature.json\", 'rb') as fp:\n",
    "    print(fp.readline().decode(\"utf-8\")[:100] + \"...\")"
   ]
  },
  {
   "cell_type": "markdown",
   "metadata": {},
   "source": [
    "We are all set with our dataset processing, we can now call DeepAR to train a model and generate predictions."
   ]
  },
  {
   "cell_type": "markdown",
   "metadata": {},
   "source": [
    "### Train a model\n",
    "\n",
    "Here we define the estimator that will launch the training job."
   ]
  },
  {
   "cell_type": "code",
   "execution_count": 137,
   "metadata": {},
   "outputs": [],
   "source": [
    "#ml.c4.2xlarge\n",
    "# 'local'\n",
    "estimator = sagemaker.estimator.Estimator(\n",
    "    sagemaker_session=sagemaker_session,\n",
    "    image_name=image_name,\n",
    "    role=role,\n",
    "    train_instance_count=1,\n",
    "    train_instance_type='ml.c4.2xlarge',\n",
    "#     train_instance_type='local',\n",
    "    base_job_name='deepar-electricity-demo',\n",
    "    output_path=s3_output_path\n",
    ")"
   ]
  },
  {
   "cell_type": "markdown",
   "metadata": {},
   "source": [
    "Next we need to set the hyperparameters for the training job. For example frequency of the time series used, number of data points the model will look at in the past, number of predicted data points. The other hyperparameters concern the model to train (number of layers, number of cells per layer, likelihood function) and the training options (number of epochs, batch size, learning rate...). We use default parameters for every optional parameter in this case (you can always use [Sagemaker Automated Model Tuning](https://aws.amazon.com/blogs/aws/sagemaker-automatic-model-tuning/) to tune them)."
   ]
  },
  {
   "cell_type": "code",
   "execution_count": 141,
   "metadata": {},
   "outputs": [
    {
     "name": "stdout",
     "output_type": "stream",
     "text": [
      "1D\n"
     ]
    }
   ],
   "source": [
    "hyperparameters = {\n",
    "    \"time_freq\": freq,\n",
    "    \"epochs\": \"100\",\n",
    "    \"early_stopping_patience\": \"5\",\n",
    "    \"mini_batch_size\": \"64\",\n",
    "    \"learning_rate\": \"5E-4\",\n",
    "    \"context_length\": str(context_length),\n",
    "    \"prediction_length\": str(prediction_length),\n",
    "    \"num_cells\": \"30\",\n",
    "    \"num_layers\": \"3\"\n",
    "#     \"time_freq\": freq,\n",
    "#     \"epochs\": \"56\",\n",
    "#     \"early_stopping_patience\": \"5\",\n",
    "#     \"mini_batch_size\": \"199\",\n",
    "#     \"learning_rate\": \"0.040771149710484636\",\n",
    "#     \"context_length\": \"1\",\n",
    "#     \"prediction_length\": str(prediction_length),\n",
    "#     \"num_cells\": \"72\",\n",
    "#     \"num_layers\": \"5\"\n",
    "#     \"dropout_rate\": \"0.010913684306728176\",\n",
    "#     \"embedding_dimension\": \"46\"\n",
    "}\n",
    "print(hyperparameters['time_freq'])"
   ]
  },
  {
   "cell_type": "code",
   "execution_count": 102,
   "metadata": {},
   "outputs": [],
   "source": [
    "# estimator.set_hyperparameters(**hyperparameters)"
   ]
  },
  {
   "cell_type": "markdown",
   "metadata": {},
   "source": [
    "We are ready to launch the training job. SageMaker will start an EC2 instance, download the data from S3, start training the model and save the trained model.\n",
    "\n",
    "If you provide the `test` data channel as we do in this example, DeepAR will also calculate accuracy metrics for the trained model on this test. This is done by predicting the last `prediction_length` points of each time-series in the test set and comparing this to the actual value of the time-series. \n",
    "\n",
    "**Note:** the next cell may take a few minutes to complete, depending on data size, model complexity, training options."
   ]
  },
  {
   "cell_type": "code",
   "execution_count": 142,
   "metadata": {},
   "outputs": [
    {
     "name": "stderr",
     "output_type": "stream",
     "text": [
      "INFO:sagemaker:Creating training-job with name: deepar-electricity-demo-2018-11-01-19-54-32-290\n"
     ]
    },
    {
     "name": "stdout",
     "output_type": "stream",
     "text": [
      "1D\n",
      "7\n",
      "1\n",
      "2018-11-01 19:54:32 Starting - Starting the training job...\n",
      "2018-11-01 19:54:34 Starting - Launching requested ML instances......\n",
      "2018-11-01 19:55:47 Starting - Preparing the instances for training...\n",
      "2018-11-01 19:56:28 Downloading - Downloading input data...\n",
      "2018-11-01 19:56:35 Training - Downloading the training image..\n",
      "\u001b[31mArguments: train\u001b[0m\n",
      "\u001b[31m[11/01/2018 19:57:11 INFO 140568560043840] Reading default configuration from /opt/amazon/lib/python2.7/site-packages/algorithm/default-input.json: {u'num_dynamic_feat': u'auto', u'dropout_rate': u'0.10', u'mini_batch_size': u'128', u'test_quantiles': u'[0.1, 0.2, 0.3, 0.4, 0.5, 0.6, 0.7, 0.8, 0.9]', u'_tuning_objective_metric': u'', u'_num_gpus': u'auto', u'num_eval_samples': u'100', u'learning_rate': u'0.001', u'num_cells': u'40', u'num_layers': u'2', u'embedding_dimension': u'10', u'_kvstore': u'auto', u'_num_kv_servers': u'auto', u'cardinality': u'auto', u'likelihood': u'student-t', u'early_stopping_patience': u''}\u001b[0m\n",
      "\u001b[31m[11/01/2018 19:57:11 INFO 140568560043840] Reading provided configuration from /opt/ml/input/config/hyperparameters.json: {u'dropout_rate': u'0.010913684306728176', u'learning_rate': u'0.040771149710484636', u'num_cells': u'72', u'prediction_length': u'1', u'epochs': u'56', u'embedding_dimension': u'46', u'time_freq': u'1D', u'context_length': u'7', u'num_layers': u'5', u'mini_batch_size': u'199', u'early_stopping_patience': u'5'}\u001b[0m\n",
      "\u001b[31m[11/01/2018 19:57:11 INFO 140568560043840] Final configuration: {u'dropout_rate': u'0.010913684306728176', u'test_quantiles': u'[0.1, 0.2, 0.3, 0.4, 0.5, 0.6, 0.7, 0.8, 0.9]', u'_tuning_objective_metric': u'', u'num_eval_samples': u'100', u'learning_rate': u'0.040771149710484636', u'num_layers': u'5', u'epochs': u'56', u'embedding_dimension': u'46', u'num_cells': u'72', u'_num_kv_servers': u'auto', u'mini_batch_size': u'199', u'likelihood': u'student-t', u'num_dynamic_feat': u'auto', u'cardinality': u'auto', u'_num_gpus': u'auto', u'prediction_length': u'1', u'time_freq': u'1D', u'context_length': u'7', u'_kvstore': u'auto', u'early_stopping_patience': u'5'}\u001b[0m\n",
      "\u001b[31m[11/01/2018 19:57:11 INFO 140568560043840] Detected entry point for worker worker\u001b[0m\n",
      "\u001b[31m[11/01/2018 19:57:11 INFO 140568560043840] Using early stopping with patience 5\u001b[0m\n",
      "\u001b[31m[11/01/2018 19:57:11 INFO 140568560043840] [cardinality=auto] `cat` field was NOT found in the file `/opt/ml/input/data/train/arnetrain_feature.json` and will NOT be used for training.\u001b[0m\n",
      "\u001b[31m[11/01/2018 19:57:11 INFO 140568560043840] [num_dynamic_feat=auto] `dynamic_feat` field was found in the file `/opt/ml/input/data/train/arnetrain_feature.json` and will be used for training.\u001b[0m\n",
      "\u001b[31m[11/01/2018 19:57:11 INFO 140568560043840] [num_dynamic_feat=auto] Inferred value of num_dynamic_feat=1 from dataset.\u001b[0m\n",
      "\u001b[31m[11/01/2018 19:57:11 INFO 140568560043840] Training set statistics:\u001b[0m\n",
      "\u001b[31m[11/01/2018 19:57:11 INFO 140568560043840] Real time series\u001b[0m\n",
      "\u001b[31m[11/01/2018 19:57:11 INFO 140568560043840] number of time series: 133\u001b[0m\n",
      "\u001b[31m[11/01/2018 19:57:11 INFO 140568560043840] number of observations: 3990\u001b[0m\n",
      "\u001b[31m[11/01/2018 19:57:11 INFO 140568560043840] mean target length: 30\u001b[0m\n",
      "\u001b[31m[11/01/2018 19:57:11 INFO 140568560043840] min/mean/max target: 0.105868458748/0.540222912145/0.942042291164\u001b[0m\n",
      "\u001b[31m[11/01/2018 19:57:11 INFO 140568560043840] mean abs(target): 0.540222912145\u001b[0m\n",
      "\u001b[31m[11/01/2018 19:57:11 INFO 140568560043840] contains missing values: no\u001b[0m\n",
      "\u001b[31m[11/01/2018 19:57:11 INFO 140568560043840] Small number of time series. Doing 10 number of passes over dataset per epoch.\u001b[0m\n",
      "\u001b[31m[11/01/2018 19:57:11 INFO 140568560043840] Test set statistics:\u001b[0m\n",
      "\u001b[31m[11/01/2018 19:57:11 INFO 140568560043840] Real time series\u001b[0m\n",
      "\u001b[31m[11/01/2018 19:57:11 INFO 140568560043840] number of time series: 34\u001b[0m\n",
      "\u001b[31m[11/01/2018 19:57:11 INFO 140568560043840] number of observations: 1020\u001b[0m\n",
      "\u001b[31m[11/01/2018 19:57:11 INFO 140568560043840] mean target length: 30\u001b[0m\n",
      "\u001b[31m[11/01/2018 19:57:11 INFO 140568560043840] min/mean/max target: 0.141411885619/0.541682694473/0.884400725365\u001b[0m\n",
      "\u001b[31m[11/01/2018 19:57:11 INFO 140568560043840] mean abs(target): 0.541682694473\u001b[0m\n",
      "\u001b[31m[11/01/2018 19:57:11 INFO 140568560043840] contains missing values: no\u001b[0m\n",
      "\u001b[31m[11/01/2018 19:57:11 INFO 140568560043840] nvidia-smi took: 0.0251770019531 secs to identify 0 gpus\u001b[0m\n",
      "\u001b[31m[11/01/2018 19:57:11 INFO 140568560043840] Number of GPUs being used: 0\u001b[0m\n",
      "\u001b[31m[11/01/2018 19:57:11 INFO 140568560043840] Create Store: local\u001b[0m\n",
      "\u001b[31m#metrics {\"Metrics\": {\"get_graph.time\": {\"count\": 1, \"max\": 40.899038314819336, \"sum\": 40.899038314819336, \"min\": 40.899038314819336}}, \"EndTime\": 1541102231.807435, \"Dimensions\": {\"Host\": \"algo-1\", \"Operation\": \"training\", \"Algorithm\": \"AWS/DeepAR\"}, \"StartTime\": 1541102231.762252}\n",
      "\u001b[0m\n",
      "\u001b[31m[11/01/2018 19:57:11 INFO 140568560043840] Number of GPUs being used: 0\u001b[0m\n",
      "\u001b[31m#metrics {\"Metrics\": {\"initialize.time\": {\"count\": 1, \"max\": 109.15994644165039, \"sum\": 109.15994644165039, \"min\": 109.15994644165039}}, \"EndTime\": 1541102231.871494, \"Dimensions\": {\"Host\": \"algo-1\", \"Operation\": \"training\", \"Algorithm\": \"AWS/DeepAR\"}, \"StartTime\": 1541102231.807511}\n",
      "\u001b[0m\n",
      "\u001b[31m[11/01/2018 19:57:12 INFO 140568560043840] Epoch[0] Batch[0] avg_epoch_loss=0.683828\u001b[0m\n",
      "\u001b[31m[11/01/2018 19:57:13 INFO 140568560043840] Epoch[0] Batch[5] avg_epoch_loss=2.477050\u001b[0m\n",
      "\u001b[31m[11/01/2018 19:57:13 INFO 140568560043840] Epoch[0] Batch [5]#011Speed: 2212.15 samples/sec#011loss=2.477050\u001b[0m\n",
      "\u001b[31m[11/01/2018 19:57:13 INFO 140568560043840] processed a total of 1956 examples\u001b[0m\n",
      "\u001b[31m#metrics {\"Metrics\": {\"epochs\": {\"count\": 1, \"max\": 56, \"sum\": 56.0, \"min\": 56}, \"update.time\": {\"count\": 1, \"max\": 1612.6680374145508, \"sum\": 1612.6680374145508, \"min\": 1612.6680374145508}}, \"EndTime\": 1541102233.484324, \"Dimensions\": {\"Host\": \"algo-1\", \"Operation\": \"training\", \"Algorithm\": \"AWS/DeepAR\"}, \"StartTime\": 1541102231.871558}\n",
      "\u001b[0m\n",
      "\u001b[31m[11/01/2018 19:57:13 INFO 140568560043840] #throughput_metric: host=algo-1, train throughput=1212.78856356 records/second\u001b[0m\n",
      "\u001b[31m[11/01/2018 19:57:13 INFO 140568560043840] #progress_metric: host=algo-1, completed 1 % of epochs\u001b[0m\n",
      "\u001b[31m[11/01/2018 19:57:13 INFO 140568560043840] best epoch loss so far\u001b[0m\n",
      "\u001b[31m[11/01/2018 19:57:13 INFO 140568560043840] Saved checkpoint to \"/opt/ml/model/state_8e96002f-3eef-42fc-829b-a58ec564c562-0000.params\"\u001b[0m\n",
      "\u001b[31m#metrics {\"Metrics\": {\"state.serialize.time\": {\"count\": 1, \"max\": 18.16701889038086, \"sum\": 18.16701889038086, \"min\": 18.16701889038086}}, \"EndTime\": 1541102233.503048, \"Dimensions\": {\"Host\": \"algo-1\", \"Operation\": \"training\", \"Algorithm\": \"AWS/DeepAR\"}, \"StartTime\": 1541102233.484424}\n",
      "\u001b[0m\n",
      "\u001b[31m[11/01/2018 19:57:14 INFO 140568560043840] Epoch[1] Batch[0] avg_epoch_loss=2.022091\u001b[0m\n",
      "\u001b[31m[11/01/2018 19:57:14 INFO 140568560043840] Epoch[1] Batch[5] avg_epoch_loss=2.207163\u001b[0m\n",
      "\u001b[31m[11/01/2018 19:57:14 INFO 140568560043840] Epoch[1] Batch [5]#011Speed: 2242.62 samples/sec#011loss=2.207163\u001b[0m\n",
      "\u001b[31m[11/01/2018 19:57:14 INFO 140568560043840] processed a total of 1982 examples\u001b[0m\n",
      "\u001b[31m#metrics {\"Metrics\": {\"update.time\": {\"count\": 1, \"max\": 1360.2659702301025, \"sum\": 1360.2659702301025, \"min\": 1360.2659702301025}}, \"EndTime\": 1541102234.863423, \"Dimensions\": {\"Host\": \"algo-1\", \"Operation\": \"training\", \"Algorithm\": \"AWS/DeepAR\"}, \"StartTime\": 1541102233.503104}\n",
      "\u001b[0m\n",
      "\u001b[31m[11/01/2018 19:57:14 INFO 140568560043840] #throughput_metric: host=algo-1, train throughput=1456.93928484 records/second\u001b[0m\n",
      "\u001b[31m[11/01/2018 19:57:14 INFO 140568560043840] #progress_metric: host=algo-1, completed 3 % of epochs\u001b[0m\n",
      "\u001b[31m[11/01/2018 19:57:14 INFO 140568560043840] best epoch loss so far\u001b[0m\n",
      "\u001b[31m[11/01/2018 19:57:14 INFO 140568560043840] Saved checkpoint to \"/opt/ml/model/state_e39a664d-080d-4038-82fa-237b7a5696bf-0000.params\"\u001b[0m\n",
      "\u001b[31m#metrics {\"Metrics\": {\"state.serialize.time\": {\"count\": 1, \"max\": 16.785860061645508, \"sum\": 16.785860061645508, \"min\": 16.785860061645508}}, \"EndTime\": 1541102234.880639, \"Dimensions\": {\"Host\": \"algo-1\", \"Operation\": \"training\", \"Algorithm\": \"AWS/DeepAR\"}, \"StartTime\": 1541102234.863505}\n",
      "\u001b[0m\n",
      "\u001b[31m[11/01/2018 19:57:15 INFO 140568560043840] Epoch[2] Batch[0] avg_epoch_loss=1.558753\u001b[0m\n",
      "\u001b[31m[11/01/2018 19:57:15 INFO 140568560043840] Epoch[2] Batch[5] avg_epoch_loss=1.284460\u001b[0m\n",
      "\u001b[31m[11/01/2018 19:57:15 INFO 140568560043840] Epoch[2] Batch [5]#011Speed: 2172.23 samples/sec#011loss=1.284460\u001b[0m\n",
      "\u001b[31m[11/01/2018 19:57:16 INFO 140568560043840] processed a total of 1933 examples\u001b[0m\n",
      "\u001b[31m#metrics {\"Metrics\": {\"update.time\": {\"count\": 1, \"max\": 1365.4680252075195, \"sum\": 1365.4680252075195, \"min\": 1365.4680252075195}}, \"EndTime\": 1541102236.24622, \"Dimensions\": {\"Host\": \"algo-1\", \"Operation\": \"training\", \"Algorithm\": \"AWS/DeepAR\"}, \"StartTime\": 1541102234.880697}\n",
      "\u001b[0m\n",
      "\u001b[31m[11/01/2018 19:57:16 INFO 140568560043840] #throughput_metric: host=algo-1, train throughput=1415.49812011 records/second\u001b[0m\n",
      "\u001b[31m[11/01/2018 19:57:16 INFO 140568560043840] #progress_metric: host=algo-1, completed 5 % of epochs\u001b[0m\n",
      "\u001b[31m[11/01/2018 19:57:16 INFO 140568560043840] best epoch loss so far\u001b[0m\n",
      "\u001b[31m[11/01/2018 19:57:16 INFO 140568560043840] Saved checkpoint to \"/opt/ml/model/state_b7980d03-8c96-4e4d-a10f-b5ce54ce8a03-0000.params\"\u001b[0m\n",
      "\u001b[31m#metrics {\"Metrics\": {\"state.serialize.time\": {\"count\": 1, \"max\": 14.570951461791992, \"sum\": 14.570951461791992, \"min\": 14.570951461791992}}, \"EndTime\": 1541102236.261268, \"Dimensions\": {\"Host\": \"algo-1\", \"Operation\": \"training\", \"Algorithm\": \"AWS/DeepAR\"}, \"StartTime\": 1541102236.246309}\n",
      "\u001b[0m\n",
      "\u001b[31m[11/01/2018 19:57:16 INFO 140568560043840] Epoch[3] Batch[0] avg_epoch_loss=-0.228437\u001b[0m\n",
      "\u001b[31m[11/01/2018 19:57:17 INFO 140568560043840] Epoch[3] Batch[5] avg_epoch_loss=1.220897\u001b[0m\n",
      "\u001b[31m[11/01/2018 19:57:17 INFO 140568560043840] Epoch[3] Batch [5]#011Speed: 2209.19 samples/sec#011loss=1.220897\u001b[0m\n",
      "\u001b[31m[11/01/2018 19:57:17 INFO 140568560043840] Epoch[3] Batch[10] avg_epoch_loss=1.185472\u001b[0m\n",
      "\u001b[31m[11/01/2018 19:57:17 INFO 140568560043840] Epoch[3] Batch [10]#011Speed: 2222.52 samples/sec#011loss=1.142961\u001b[0m\n",
      "\u001b[31m[11/01/2018 19:57:17 INFO 140568560043840] processed a total of 1994 examples\u001b[0m\n",
      "\u001b[31m#metrics {\"Metrics\": {\"update.time\": {\"count\": 1, \"max\": 1429.7151565551758, \"sum\": 1429.7151565551758, \"min\": 1429.7151565551758}}, \"EndTime\": 1541102237.691084, \"Dimensions\": {\"Host\": \"algo-1\", \"Operation\": \"training\", \"Algorithm\": \"AWS/DeepAR\"}, \"StartTime\": 1541102236.261316}\n",
      "\u001b[0m\n",
      "\u001b[31m[11/01/2018 19:57:17 INFO 140568560043840] #throughput_metric: host=algo-1, train throughput=1394.57526331 records/second\u001b[0m\n",
      "\u001b[31m[11/01/2018 19:57:17 INFO 140568560043840] #progress_metric: host=algo-1, completed 7 % of epochs\u001b[0m\n",
      "\u001b[31m[11/01/2018 19:57:17 INFO 140568560043840] loss did not improve for 1 epochs\u001b[0m\n",
      "\u001b[31m[11/01/2018 19:57:18 INFO 140568560043840] Epoch[4] Batch[0] avg_epoch_loss=1.350237\u001b[0m\n",
      "\u001b[31m[11/01/2018 19:57:18 INFO 140568560043840] Epoch[4] Batch[5] avg_epoch_loss=1.204777\u001b[0m\n",
      "\u001b[31m[11/01/2018 19:57:18 INFO 140568560043840] Epoch[4] Batch [5]#011Speed: 2244.43 samples/sec#011loss=1.204777\u001b[0m\n",
      "\u001b[31m[11/01/2018 19:57:19 INFO 140568560043840] processed a total of 1952 examples\u001b[0m\n",
      "\u001b[31m#metrics {\"Metrics\": {\"update.time\": {\"count\": 1, \"max\": 1370.5461025238037, \"sum\": 1370.5461025238037, \"min\": 1370.5461025238037}}, \"EndTime\": 1541102239.062083, \"Dimensions\": {\"Host\": \"algo-1\", \"Operation\": \"training\", \"Algorithm\": \"AWS/DeepAR\"}, \"StartTime\": 1541102237.691157}\n",
      "\u001b[0m\n",
      "\u001b[31m[11/01/2018 19:57:19 INFO 140568560043840] #throughput_metric: host=algo-1, train throughput=1424.12938937 records/second\u001b[0m\n",
      "\u001b[31m[11/01/2018 19:57:19 INFO 140568560043840] #progress_metric: host=algo-1, completed 8 % of epochs\u001b[0m\n",
      "\u001b[31m[11/01/2018 19:57:19 INFO 140568560043840] best epoch loss so far\u001b[0m\n",
      "\u001b[31m[11/01/2018 19:57:19 INFO 140568560043840] Saved checkpoint to \"/opt/ml/model/state_0b7985a7-b82f-465b-9291-06c15df8121f-0000.params\"\u001b[0m\n",
      "\u001b[31m#metrics {\"Metrics\": {\"state.serialize.time\": {\"count\": 1, \"max\": 14.571905136108398, \"sum\": 14.571905136108398, \"min\": 14.571905136108398}}, \"EndTime\": 1541102239.077106, \"Dimensions\": {\"Host\": \"algo-1\", \"Operation\": \"training\", \"Algorithm\": \"AWS/DeepAR\"}, \"StartTime\": 1541102239.062164}\n",
      "\u001b[0m\n",
      "\u001b[31m[11/01/2018 19:57:19 INFO 140568560043840] Epoch[5] Batch[0] avg_epoch_loss=-0.467779\u001b[0m\n"
     ]
    },
    {
     "name": "stdout",
     "output_type": "stream",
     "text": [
      "\n",
      "2018-11-01 19:57:09 Training - Training image download completed. Training in progress.\u001b[31m[11/01/2018 19:57:20 INFO 140568560043840] Epoch[5] Batch[5] avg_epoch_loss=0.807025\u001b[0m\n",
      "\u001b[31m[11/01/2018 19:57:20 INFO 140568560043840] Epoch[5] Batch [5]#011Speed: 2014.90 samples/sec#011loss=0.807025\u001b[0m\n",
      "\u001b[31m[11/01/2018 19:57:20 INFO 140568560043840] Epoch[5] Batch[10] avg_epoch_loss=0.845238\u001b[0m\n",
      "\u001b[31m[11/01/2018 19:57:20 INFO 140568560043840] Epoch[5] Batch [10]#011Speed: 2040.57 samples/sec#011loss=0.891093\u001b[0m\n",
      "\u001b[31m[11/01/2018 19:57:20 INFO 140568560043840] processed a total of 2015 examples\u001b[0m\n",
      "\u001b[31m#metrics {\"Metrics\": {\"update.time\": {\"count\": 1, \"max\": 1507.2591304779053, \"sum\": 1507.2591304779053, \"min\": 1507.2591304779053}}, \"EndTime\": 1541102240.584471, \"Dimensions\": {\"Host\": \"algo-1\", \"Operation\": \"training\", \"Algorithm\": \"AWS/DeepAR\"}, \"StartTime\": 1541102239.077161}\n",
      "\u001b[0m\n",
      "\u001b[31m[11/01/2018 19:57:20 INFO 140568560043840] #throughput_metric: host=algo-1, train throughput=1336.73259235 records/second\u001b[0m\n",
      "\u001b[31m[11/01/2018 19:57:20 INFO 140568560043840] #progress_metric: host=algo-1, completed 10 % of epochs\u001b[0m\n",
      "\u001b[31m[11/01/2018 19:57:20 INFO 140568560043840] best epoch loss so far\u001b[0m\n",
      "\u001b[31m[11/01/2018 19:57:20 INFO 140568560043840] Saved checkpoint to \"/opt/ml/model/state_2a97b9c5-0795-4e4c-ab2e-3cd16447ddb8-0000.params\"\u001b[0m\n",
      "\u001b[31m#metrics {\"Metrics\": {\"state.serialize.time\": {\"count\": 1, \"max\": 16.836881637573242, \"sum\": 16.836881637573242, \"min\": 16.836881637573242}}, \"EndTime\": 1541102240.60179, \"Dimensions\": {\"Host\": \"algo-1\", \"Operation\": \"training\", \"Algorithm\": \"AWS/DeepAR\"}, \"StartTime\": 1541102240.58458}\n",
      "\u001b[0m\n",
      "\u001b[31m[11/01/2018 19:57:21 INFO 140568560043840] Epoch[6] Batch[0] avg_epoch_loss=1.065161\u001b[0m\n",
      "\u001b[31m[11/01/2018 19:57:21 INFO 140568560043840] Epoch[6] Batch[5] avg_epoch_loss=0.934295\u001b[0m\n",
      "\u001b[31m[11/01/2018 19:57:21 INFO 140568560043840] Epoch[6] Batch [5]#011Speed: 2237.55 samples/sec#011loss=0.934295\u001b[0m\n",
      "\u001b[31m[11/01/2018 19:57:21 INFO 140568560043840] processed a total of 1959 examples\u001b[0m\n",
      "\u001b[31m#metrics {\"Metrics\": {\"update.time\": {\"count\": 1, \"max\": 1350.5098819732666, \"sum\": 1350.5098819732666, \"min\": 1350.5098819732666}}, \"EndTime\": 1541102241.952408, \"Dimensions\": {\"Host\": \"algo-1\", \"Operation\": \"training\", \"Algorithm\": \"AWS/DeepAR\"}, \"StartTime\": 1541102240.601845}\n",
      "\u001b[0m\n",
      "\u001b[31m[11/01/2018 19:57:21 INFO 140568560043840] #throughput_metric: host=algo-1, train throughput=1450.40859035 records/second\u001b[0m\n",
      "\u001b[31m[11/01/2018 19:57:21 INFO 140568560043840] #progress_metric: host=algo-1, completed 12 % of epochs\u001b[0m\n",
      "\u001b[31m[11/01/2018 19:57:21 INFO 140568560043840] best epoch loss so far\u001b[0m\n",
      "\u001b[31m[11/01/2018 19:57:21 INFO 140568560043840] Saved checkpoint to \"/opt/ml/model/state_5c1f581a-b0f5-4238-8b65-9d8f660485ee-0000.params\"\u001b[0m\n",
      "\u001b[31m#metrics {\"Metrics\": {\"state.serialize.time\": {\"count\": 1, \"max\": 16.648054122924805, \"sum\": 16.648054122924805, \"min\": 16.648054122924805}}, \"EndTime\": 1541102241.969517, \"Dimensions\": {\"Host\": \"algo-1\", \"Operation\": \"training\", \"Algorithm\": \"AWS/DeepAR\"}, \"StartTime\": 1541102241.952513}\n",
      "\u001b[0m\n",
      "\u001b[31m[11/01/2018 19:57:22 INFO 140568560043840] Epoch[7] Batch[0] avg_epoch_loss=0.844824\u001b[0m\n",
      "\u001b[31m[11/01/2018 19:57:22 INFO 140568560043840] Epoch[7] Batch[5] avg_epoch_loss=0.633987\u001b[0m\n",
      "\u001b[31m[11/01/2018 19:57:22 INFO 140568560043840] Epoch[7] Batch [5]#011Speed: 2070.76 samples/sec#011loss=0.633987\u001b[0m\n",
      "\u001b[31m[11/01/2018 19:57:23 INFO 140568560043840] processed a total of 1951 examples\u001b[0m\n",
      "\u001b[31m#metrics {\"Metrics\": {\"update.time\": {\"count\": 1, \"max\": 1361.732006072998, \"sum\": 1361.732006072998, \"min\": 1361.732006072998}}, \"EndTime\": 1541102243.331358, \"Dimensions\": {\"Host\": \"algo-1\", \"Operation\": \"training\", \"Algorithm\": \"AWS/DeepAR\"}, \"StartTime\": 1541102241.969573}\n",
      "\u001b[0m\n",
      "\u001b[31m[11/01/2018 19:57:23 INFO 140568560043840] #throughput_metric: host=algo-1, train throughput=1432.60375789 records/second\u001b[0m\n",
      "\u001b[31m[11/01/2018 19:57:23 INFO 140568560043840] #progress_metric: host=algo-1, completed 14 % of epochs\u001b[0m\n",
      "\u001b[31m[11/01/2018 19:57:23 INFO 140568560043840] best epoch loss so far\u001b[0m\n",
      "\u001b[31m[11/01/2018 19:57:23 INFO 140568560043840] Saved checkpoint to \"/opt/ml/model/state_81719dec-552c-4549-ac12-657efc014819-0000.params\"\u001b[0m\n",
      "\u001b[31m#metrics {\"Metrics\": {\"state.serialize.time\": {\"count\": 1, \"max\": 16.592025756835938, \"sum\": 16.592025756835938, \"min\": 16.592025756835938}}, \"EndTime\": 1541102243.348388, \"Dimensions\": {\"Host\": \"algo-1\", \"Operation\": \"training\", \"Algorithm\": \"AWS/DeepAR\"}, \"StartTime\": 1541102243.331445}\n",
      "\u001b[0m\n",
      "\u001b[31m[11/01/2018 19:57:23 INFO 140568560043840] Epoch[8] Batch[0] avg_epoch_loss=-0.471751\u001b[0m\n",
      "\u001b[31m[11/01/2018 19:57:24 INFO 140568560043840] Epoch[8] Batch[5] avg_epoch_loss=-0.363814\u001b[0m\n",
      "\u001b[31m[11/01/2018 19:57:24 INFO 140568560043840] Epoch[8] Batch [5]#011Speed: 2160.14 samples/sec#011loss=-0.363814\u001b[0m\n",
      "\u001b[31m[11/01/2018 19:57:24 INFO 140568560043840] Epoch[8] Batch[10] avg_epoch_loss=-0.528677\u001b[0m\n",
      "\u001b[31m[11/01/2018 19:57:24 INFO 140568560043840] Epoch[8] Batch [10]#011Speed: 2236.91 samples/sec#011loss=-0.726513\u001b[0m\n",
      "\u001b[31m[11/01/2018 19:57:24 INFO 140568560043840] processed a total of 2016 examples\u001b[0m\n",
      "\u001b[31m#metrics {\"Metrics\": {\"update.time\": {\"count\": 1, \"max\": 1441.3959980010986, \"sum\": 1441.3959980010986, \"min\": 1441.3959980010986}}, \"EndTime\": 1541102244.789894, \"Dimensions\": {\"Host\": \"algo-1\", \"Operation\": \"training\", \"Algorithm\": \"AWS/DeepAR\"}, \"StartTime\": 1541102243.348443}\n",
      "\u001b[0m\n",
      "\u001b[31m[11/01/2018 19:57:24 INFO 140568560043840] #throughput_metric: host=algo-1, train throughput=1398.5247293 records/second\u001b[0m\n",
      "\u001b[31m[11/01/2018 19:57:24 INFO 140568560043840] #progress_metric: host=algo-1, completed 16 % of epochs\u001b[0m\n",
      "\u001b[31m[11/01/2018 19:57:24 INFO 140568560043840] best epoch loss so far\u001b[0m\n",
      "\u001b[31m[11/01/2018 19:57:24 INFO 140568560043840] Saved checkpoint to \"/opt/ml/model/state_432ef455-ad7e-49d6-b899-9a464fbbc982-0000.params\"\u001b[0m\n",
      "\u001b[31m#metrics {\"Metrics\": {\"state.serialize.time\": {\"count\": 1, \"max\": 11.943817138671875, \"sum\": 11.943817138671875, \"min\": 11.943817138671875}}, \"EndTime\": 1541102244.802345, \"Dimensions\": {\"Host\": \"algo-1\", \"Operation\": \"training\", \"Algorithm\": \"AWS/DeepAR\"}, \"StartTime\": 1541102244.789977}\n",
      "\u001b[0m\n",
      "\u001b[31m[11/01/2018 19:57:25 INFO 140568560043840] Epoch[9] Batch[0] avg_epoch_loss=-0.998741\u001b[0m\n",
      "\u001b[31m[11/01/2018 19:57:25 INFO 140568560043840] Epoch[9] Batch[5] avg_epoch_loss=-0.948632\u001b[0m\n",
      "\u001b[31m[11/01/2018 19:57:25 INFO 140568560043840] Epoch[9] Batch [5]#011Speed: 2180.97 samples/sec#011loss=-0.948632\u001b[0m\n",
      "\u001b[31m[11/01/2018 19:57:26 INFO 140568560043840] processed a total of 1989 examples\u001b[0m\n",
      "\u001b[31m#metrics {\"Metrics\": {\"update.time\": {\"count\": 1, \"max\": 1372.3289966583252, \"sum\": 1372.3289966583252, \"min\": 1372.3289966583252}}, \"EndTime\": 1541102246.174781, \"Dimensions\": {\"Host\": \"algo-1\", \"Operation\": \"training\", \"Algorithm\": \"AWS/DeepAR\"}, \"StartTime\": 1541102244.802403}\n",
      "\u001b[0m\n",
      "\u001b[31m[11/01/2018 19:57:26 INFO 140568560043840] #throughput_metric: host=algo-1, train throughput=1449.22670971 records/second\u001b[0m\n",
      "\u001b[31m[11/01/2018 19:57:26 INFO 140568560043840] #progress_metric: host=algo-1, completed 17 % of epochs\u001b[0m\n",
      "\u001b[31m[11/01/2018 19:57:26 INFO 140568560043840] best epoch loss so far\u001b[0m\n",
      "\u001b[31m[11/01/2018 19:57:26 INFO 140568560043840] Saved checkpoint to \"/opt/ml/model/state_6fb91601-d429-4182-a3e8-721023e24ee9-0000.params\"\u001b[0m\n",
      "\u001b[31m#metrics {\"Metrics\": {\"state.serialize.time\": {\"count\": 1, \"max\": 16.71600341796875, \"sum\": 16.71600341796875, \"min\": 16.71600341796875}}, \"EndTime\": 1541102246.191964, \"Dimensions\": {\"Host\": \"algo-1\", \"Operation\": \"training\", \"Algorithm\": \"AWS/DeepAR\"}, \"StartTime\": 1541102246.174871}\n",
      "\u001b[0m\n",
      "\u001b[31m[11/01/2018 19:57:26 INFO 140568560043840] Epoch[10] Batch[0] avg_epoch_loss=1.511946\u001b[0m\n",
      "\u001b[31m[11/01/2018 19:57:27 INFO 140568560043840] Epoch[10] Batch[5] avg_epoch_loss=1.021824\u001b[0m\n",
      "\u001b[31m[11/01/2018 19:57:27 INFO 140568560043840] Epoch[10] Batch [5]#011Speed: 2186.22 samples/sec#011loss=1.021824\u001b[0m\n",
      "\u001b[31m[11/01/2018 19:57:27 INFO 140568560043840] processed a total of 1974 examples\u001b[0m\n",
      "\u001b[31m#metrics {\"Metrics\": {\"update.time\": {\"count\": 1, \"max\": 1380.0928592681885, \"sum\": 1380.0928592681885, \"min\": 1380.0928592681885}}, \"EndTime\": 1541102247.572169, \"Dimensions\": {\"Host\": \"algo-1\", \"Operation\": \"training\", \"Algorithm\": \"AWS/DeepAR\"}, \"StartTime\": 1541102246.192023}\n",
      "\u001b[0m\n",
      "\u001b[31m[11/01/2018 19:57:27 INFO 140568560043840] #throughput_metric: host=algo-1, train throughput=1430.20684456 records/second\u001b[0m\n",
      "\u001b[31m[11/01/2018 19:57:27 INFO 140568560043840] #progress_metric: host=algo-1, completed 19 % of epochs\u001b[0m\n",
      "\u001b[31m[11/01/2018 19:57:27 INFO 140568560043840] loss did not improve for 1 epochs\u001b[0m\n",
      "\u001b[31m[11/01/2018 19:57:28 INFO 140568560043840] Epoch[11] Batch[0] avg_epoch_loss=1.296726\u001b[0m\n",
      "\u001b[31m[11/01/2018 19:57:28 INFO 140568560043840] Epoch[11] Batch[5] avg_epoch_loss=1.270851\u001b[0m\n",
      "\u001b[31m[11/01/2018 19:57:28 INFO 140568560043840] Epoch[11] Batch [5]#011Speed: 2272.91 samples/sec#011loss=1.270851\u001b[0m\n",
      "\u001b[31m[11/01/2018 19:57:28 INFO 140568560043840] Epoch[11] Batch[10] avg_epoch_loss=1.029011\u001b[0m\n",
      "\u001b[31m[11/01/2018 19:57:28 INFO 140568560043840] Epoch[11] Batch [10]#011Speed: 2202.13 samples/sec#011loss=0.738803\u001b[0m\n",
      "\u001b[31m[11/01/2018 19:57:28 INFO 140568560043840] processed a total of 2014 examples\u001b[0m\n",
      "\u001b[31m#metrics {\"Metrics\": {\"update.time\": {\"count\": 1, \"max\": 1423.504114151001, \"sum\": 1423.504114151001, \"min\": 1423.504114151001}}, \"EndTime\": 1541102248.996133, \"Dimensions\": {\"Host\": \"algo-1\", \"Operation\": \"training\", \"Algorithm\": \"AWS/DeepAR\"}, \"StartTime\": 1541102247.572259}\n",
      "\u001b[0m\n",
      "\u001b[31m[11/01/2018 19:57:28 INFO 140568560043840] #throughput_metric: host=algo-1, train throughput=1414.69745307 records/second\u001b[0m\n",
      "\u001b[31m[11/01/2018 19:57:28 INFO 140568560043840] #progress_metric: host=algo-1, completed 21 % of epochs\u001b[0m\n",
      "\u001b[31m[11/01/2018 19:57:28 INFO 140568560043840] loss did not improve for 2 epochs\u001b[0m\n",
      "\u001b[31m[11/01/2018 19:57:29 INFO 140568560043840] Epoch[12] Batch[0] avg_epoch_loss=-0.035799\u001b[0m\n",
      "\u001b[31m[11/01/2018 19:57:29 INFO 140568560043840] Epoch[12] Batch[5] avg_epoch_loss=0.404126\u001b[0m\n",
      "\u001b[31m[11/01/2018 19:57:29 INFO 140568560043840] Epoch[12] Batch [5]#011Speed: 2150.54 samples/sec#011loss=0.404126\u001b[0m\n"
     ]
    },
    {
     "name": "stdout",
     "output_type": "stream",
     "text": [
      "\u001b[31m[11/01/2018 19:57:30 INFO 140568560043840] processed a total of 1960 examples\u001b[0m\n",
      "\u001b[31m#metrics {\"Metrics\": {\"update.time\": {\"count\": 1, \"max\": 1357.1810722351074, \"sum\": 1357.1810722351074, \"min\": 1357.1810722351074}}, \"EndTime\": 1541102250.353749, \"Dimensions\": {\"Host\": \"algo-1\", \"Operation\": \"training\", \"Algorithm\": \"AWS/DeepAR\"}, \"StartTime\": 1541102248.996216}\n",
      "\u001b[0m\n",
      "\u001b[31m[11/01/2018 19:57:30 INFO 140568560043840] #throughput_metric: host=algo-1, train throughput=1444.02856356 records/second\u001b[0m\n",
      "\u001b[31m[11/01/2018 19:57:30 INFO 140568560043840] #progress_metric: host=algo-1, completed 23 % of epochs\u001b[0m\n",
      "\u001b[31m[11/01/2018 19:57:30 INFO 140568560043840] loss did not improve for 3 epochs\u001b[0m\n",
      "\u001b[31m[11/01/2018 19:57:30 INFO 140568560043840] Epoch[13] Batch[0] avg_epoch_loss=0.706405\u001b[0m\n",
      "\u001b[31m[11/01/2018 19:57:31 INFO 140568560043840] Epoch[13] Batch[5] avg_epoch_loss=1.073018\u001b[0m\n",
      "\u001b[31m[11/01/2018 19:57:31 INFO 140568560043840] Epoch[13] Batch [5]#011Speed: 2162.35 samples/sec#011loss=1.073018\u001b[0m\n",
      "\u001b[31m[11/01/2018 19:57:31 INFO 140568560043840] processed a total of 1924 examples\u001b[0m\n",
      "\u001b[31m#metrics {\"Metrics\": {\"update.time\": {\"count\": 1, \"max\": 1332.1630954742432, \"sum\": 1332.1630954742432, \"min\": 1332.1630954742432}}, \"EndTime\": 1541102251.686379, \"Dimensions\": {\"Host\": \"algo-1\", \"Operation\": \"training\", \"Algorithm\": \"AWS/DeepAR\"}, \"StartTime\": 1541102250.353839}\n",
      "\u001b[0m\n",
      "\u001b[31m[11/01/2018 19:57:31 INFO 140568560043840] #throughput_metric: host=algo-1, train throughput=1444.12570977 records/second\u001b[0m\n",
      "\u001b[31m[11/01/2018 19:57:31 INFO 140568560043840] #progress_metric: host=algo-1, completed 25 % of epochs\u001b[0m\n",
      "\u001b[31m[11/01/2018 19:57:31 INFO 140568560043840] loss did not improve for 4 epochs\u001b[0m\n",
      "\u001b[31m[11/01/2018 19:57:32 INFO 140568560043840] Epoch[14] Batch[0] avg_epoch_loss=1.084597\u001b[0m\n",
      "\u001b[31m[11/01/2018 19:57:32 INFO 140568560043840] Epoch[14] Batch[5] avg_epoch_loss=0.758774\u001b[0m\n",
      "\u001b[31m[11/01/2018 19:57:32 INFO 140568560043840] Epoch[14] Batch [5]#011Speed: 2263.88 samples/sec#011loss=0.758774\u001b[0m\n",
      "\u001b[31m[11/01/2018 19:57:33 INFO 140568560043840] Epoch[14] Batch[10] avg_epoch_loss=0.208103\u001b[0m\n",
      "\u001b[31m[11/01/2018 19:57:33 INFO 140568560043840] Epoch[14] Batch [10]#011Speed: 2247.24 samples/sec#011loss=-0.452701\u001b[0m\n",
      "\u001b[31m[11/01/2018 19:57:33 INFO 140568560043840] processed a total of 2036 examples\u001b[0m\n",
      "\u001b[31m#metrics {\"Metrics\": {\"update.time\": {\"count\": 1, \"max\": 1416.2800312042236, \"sum\": 1416.2800312042236, \"min\": 1416.2800312042236}}, \"EndTime\": 1541102253.103096, \"Dimensions\": {\"Host\": \"algo-1\", \"Operation\": \"training\", \"Algorithm\": \"AWS/DeepAR\"}, \"StartTime\": 1541102251.686469}\n",
      "\u001b[0m\n",
      "\u001b[31m[11/01/2018 19:57:33 INFO 140568560043840] #throughput_metric: host=algo-1, train throughput=1437.44419023 records/second\u001b[0m\n",
      "\u001b[31m[11/01/2018 19:57:33 INFO 140568560043840] #progress_metric: host=algo-1, completed 26 % of epochs\u001b[0m\n",
      "\u001b[31m[11/01/2018 19:57:33 INFO 140568560043840] loss did not improve for 5 epochs\u001b[0m\n",
      "\u001b[31m[11/01/2018 19:57:33 INFO 140568560043840] stopping training now\u001b[0m\n",
      "\u001b[31m[11/01/2018 19:57:33 INFO 140568560043840] #progress_metric: host=algo-1, completed 100 % epochs\u001b[0m\n",
      "\u001b[31m[11/01/2018 19:57:33 INFO 140568560043840] Loading parameters from best epoch (9)\u001b[0m\n",
      "\u001b[31m#metrics {\"Metrics\": {\"state.deserialize.time\": {\"count\": 1, \"max\": 8.022069931030273, \"sum\": 8.022069931030273, \"min\": 8.022069931030273}}, \"EndTime\": 1541102253.111699, \"Dimensions\": {\"Host\": \"algo-1\", \"Operation\": \"training\", \"Algorithm\": \"AWS/DeepAR\"}, \"StartTime\": 1541102253.10318}\n",
      "\u001b[0m\n",
      "\u001b[31m[11/01/2018 19:57:33 INFO 140568560043840] Final loss: -0.77341422843 (occurred at epoch 9)\u001b[0m\n",
      "\u001b[31m[11/01/2018 19:57:33 INFO 140568560043840] #quality_metric: host=algo-1, train final_loss <loss>=-0.77341422843\u001b[0m\n",
      "\u001b[31m[11/01/2018 19:57:33 INFO 140568560043840] Worker algo-1 finished training.\u001b[0m\n",
      "\u001b[31m[11/01/2018 19:57:33 WARNING 140568560043840] wait_for_all_workers will not sync workers since the kv store is not running distributed\u001b[0m\n",
      "\u001b[31m[11/01/2018 19:57:33 INFO 140568560043840] All workers finished. Serializing model for prediction.\u001b[0m\n",
      "\u001b[31m#metrics {\"Metrics\": {\"get_graph.time\": {\"count\": 1, \"max\": 42.38605499267578, \"sum\": 42.38605499267578, \"min\": 42.38605499267578}}, \"EndTime\": 1541102253.154649, \"Dimensions\": {\"Host\": \"algo-1\", \"Operation\": \"training\", \"Algorithm\": \"AWS/DeepAR\"}, \"StartTime\": 1541102253.111759}\n",
      "\u001b[0m\n",
      "\u001b[31m[11/01/2018 19:57:33 INFO 140568560043840] Number of GPUs being used: 0\u001b[0m\n",
      "\u001b[31m#metrics {\"Metrics\": {\"finalize.time\": {\"count\": 1, \"max\": 66.41912460327148, \"sum\": 66.41912460327148, \"min\": 66.41912460327148}}, \"EndTime\": 1541102253.178643, \"Dimensions\": {\"Host\": \"algo-1\", \"Operation\": \"training\", \"Algorithm\": \"AWS/DeepAR\"}, \"StartTime\": 1541102253.1547}\n",
      "\u001b[0m\n",
      "\u001b[31m[11/01/2018 19:57:33 INFO 140568560043840] Serializing to /opt/ml/model/model_algo-1\u001b[0m\n",
      "\u001b[31m[11/01/2018 19:57:33 INFO 140568560043840] Saved checkpoint to \"/opt/ml/model/model_algo-1-0000.params\"\u001b[0m\n",
      "\u001b[31m#metrics {\"Metrics\": {\"model.serialize.time\": {\"count\": 1, \"max\": 4.146099090576172, \"sum\": 4.146099090576172, \"min\": 4.146099090576172}}, \"EndTime\": 1541102253.182875, \"Dimensions\": {\"Host\": \"algo-1\", \"Operation\": \"training\", \"Algorithm\": \"AWS/DeepAR\"}, \"StartTime\": 1541102253.178693}\n",
      "\u001b[0m\n",
      "\u001b[31m[11/01/2018 19:57:33 INFO 140568560043840] Successfully serialized the model for prediction.\u001b[0m\n",
      "\u001b[31m[11/01/2018 19:57:33 INFO 140568560043840] Evaluating model accuracy on testset using 100 samples\u001b[0m\n",
      "\u001b[31m#metrics {\"Metrics\": {\"model.bind.time\": {\"count\": 1, \"max\": 0.03600120544433594, \"sum\": 0.03600120544433594, \"min\": 0.03600120544433594}}, \"EndTime\": 1541102253.183599, \"Dimensions\": {\"Host\": \"algo-1\", \"Operation\": \"training\", \"Algorithm\": \"AWS/DeepAR\"}, \"StartTime\": 1541102253.182916}\n",
      "\u001b[0m\n",
      "\u001b[31m#metrics {\"Metrics\": {\"model.score.time\": {\"count\": 1, \"max\": 882.4691772460938, \"sum\": 882.4691772460938, \"min\": 882.4691772460938}}, \"EndTime\": 1541102254.066035, \"Dimensions\": {\"Host\": \"algo-1\", \"Operation\": \"training\", \"Algorithm\": \"AWS/DeepAR\"}, \"StartTime\": 1541102253.183655}\n",
      "\u001b[0m\n",
      "\u001b[31m[11/01/2018 19:57:34 INFO 140568560043840] #test_score (algo-1, RMSE): 0.31939735172\u001b[0m\n",
      "\u001b[31m[11/01/2018 19:57:34 INFO 140568560043840] #test_score (algo-1, mean_wQuantileLoss): 0.492704\u001b[0m\n",
      "\u001b[31m[11/01/2018 19:57:34 INFO 140568560043840] #test_score (algo-1, wQuantileLoss[0.1]): 0.147201\u001b[0m\n",
      "\u001b[31m[11/01/2018 19:57:34 INFO 140568560043840] #test_score (algo-1, wQuantileLoss[0.2]): 0.262468\u001b[0m\n",
      "\u001b[31m[11/01/2018 19:57:34 INFO 140568560043840] #test_score (algo-1, wQuantileLoss[0.3]): 0.366275\u001b[0m\n",
      "\u001b[31m[11/01/2018 19:57:34 INFO 140568560043840] #test_score (algo-1, wQuantileLoss[0.4]): 0.462103\u001b[0m\n",
      "\u001b[31m[11/01/2018 19:57:34 INFO 140568560043840] #test_score (algo-1, wQuantileLoss[0.5]): 0.547665\u001b[0m\n",
      "\u001b[31m[11/01/2018 19:57:34 INFO 140568560043840] #test_score (algo-1, wQuantileLoss[0.6]): 0.620385\u001b[0m\n",
      "\u001b[31m[11/01/2018 19:57:34 INFO 140568560043840] #test_score (algo-1, wQuantileLoss[0.7]): 0.680412\u001b[0m\n",
      "\u001b[31m[11/01/2018 19:57:34 INFO 140568560043840] #test_score (algo-1, wQuantileLoss[0.8]): 0.702799\u001b[0m\n",
      "\u001b[31m[11/01/2018 19:57:34 INFO 140568560043840] #test_score (algo-1, wQuantileLoss[0.9]): 0.64503\u001b[0m\n",
      "\u001b[31m[11/01/2018 19:57:34 INFO 140568560043840] #quality_metric: host=algo-1, test RMSE <loss>=0.31939735172\u001b[0m\n",
      "\u001b[31m[11/01/2018 19:57:34 INFO 140568560043840] #quality_metric: host=algo-1, test mean_wQuantileLoss <loss>=0.492704123259\u001b[0m\n",
      "\u001b[31m#metrics {\"Metrics\": {\"totaltime\": {\"count\": 1, \"max\": 22515.483856201172, \"sum\": 22515.483856201172, \"min\": 22515.483856201172}, \"setuptime\": {\"count\": 1, \"max\": 8.725881576538086, \"sum\": 8.725881576538086, \"min\": 8.725881576538086}}, \"EndTime\": 1541102254.076111, \"Dimensions\": {\"Host\": \"algo-1\", \"Operation\": \"training\", \"Algorithm\": \"AWS/DeepAR\"}, \"StartTime\": 1541102254.066103}\n",
      "\u001b[0m\n",
      "\n",
      "2018-11-01 19:57:41 Uploading - Uploading generated training model\n",
      "2018-11-01 19:57:41 Completed - Training job completed\n",
      "Billable seconds: 74\n",
      "CPU times: user 389 ms, sys: 22.8 ms, total: 412 ms\n",
      "Wall time: 3min 42s\n"
     ]
    }
   ],
   "source": [
    "%%time\n",
    "data_channels = {\n",
    "    \"train\": \"{}/train/\".format(s3_data_path),\n",
    "    \"test\": \"{}/test/\".format(s3_data_path)\n",
    "}\n",
    "\n",
    "print(hyperparameters['time_freq'])\n",
    "print(hyperparameters['context_length'])\n",
    "print(hyperparameters['prediction_length'])\n",
    "estimator.set_hyperparameters(**hyperparameters)\n",
    "estimator.fit(inputs=data_channels, wait=True)"
   ]
  },
  {
   "cell_type": "markdown",
   "metadata": {},
   "source": [
    "Since you pass a test set in this example, accuracy metrics for the forecast are computed and logged (see bottom of the log).\n",
    "You can find the definition of these metrics from [our documentation](https://docs.aws.amazon.com/sagemaker/latest/dg/deepar.html). You can use these to optimize the parameters and tune your model or use SageMaker's [Automated Model Tuning service](https://aws.amazon.com/blogs/aws/sagemaker-automatic-model-tuning/) to tune the model for you."
   ]
  },
  {
   "cell_type": "markdown",
   "metadata": {},
   "source": [
    "### Create endpoint and predictor"
   ]
  },
  {
   "cell_type": "markdown",
   "metadata": {},
   "source": [
    "Now that we have a trained model, we can use it to perform predictions by deploying it to an endpoint.\n",
    "\n",
    "**Note: Remember to delete the endpoint after running this experiment. A cell at the very bottom of this notebook will do that: make sure you run it at the end.**"
   ]
  },
  {
   "cell_type": "markdown",
   "metadata": {},
   "source": [
    "To query the endpoint and perform predictions, we can define the following utility class: this allows making requests using `pandas.Series` objects rather than raw JSON strings."
   ]
  },
  {
   "cell_type": "code",
   "execution_count": null,
   "metadata": {},
   "outputs": [],
   "source": [
    "class DeepARPredictor(sagemaker.predictor.RealTimePredictor):\n",
    "    \n",
    "    def __init__(self, *args, **kwargs):\n",
    "        super().__init__(*args, content_type=sagemaker.content_types.CONTENT_TYPE_JSON, **kwargs)\n",
    "        \n",
    "    def predict(self, ts, cat=None, dynamic_feat=None, \n",
    "                num_samples=100, return_samples=False, quantiles=[\"0.1\", \"0.5\", \"0.9\"]):\n",
    "        \"\"\"Requests the prediction of for the time series listed in `ts`, each with the (optional)\n",
    "        corresponding category listed in `cat`.\n",
    "        \n",
    "        ts -- `pandas.Series` object, the time series to predict\n",
    "        cat -- integer, the group associated to the time series (default: None)\n",
    "        num_samples -- integer, number of samples to compute at prediction time (default: 100)\n",
    "        return_samples -- boolean indicating whether to include samples in the response (default: False)\n",
    "        quantiles -- list of strings specifying the quantiles to compute (default: [\"0.1\", \"0.5\", \"0.9\"])\n",
    "        \n",
    "        Return value: list of `pandas.DataFrame` objects, each containing the predictions\n",
    "        \"\"\"\n",
    "        prediction_time = ts.index[-1] + 1\n",
    "        quantiles = [str(q) for q in quantiles]\n",
    "        req = self.__encode_request(ts, cat, dynamic_feat, num_samples, return_samples, quantiles)\n",
    "        res = super(DeepARPredictor, self).predict(req)\n",
    "        return self.__decode_response(res, ts.index.freq, prediction_time, return_samples)\n",
    "    \n",
    "    def __encode_request(self, ts, cat, dynamic_feat, num_samples, return_samples, quantiles):\n",
    "        instance = series_to_dict(ts, cat if cat is not None else None, dynamic_feat if dynamic_feat else None)\n",
    "\n",
    "        configuration = {\n",
    "            \"num_samples\": num_samples,\n",
    "            \"output_types\": [\"quantiles\", \"samples\"] if return_samples else [\"quantiles\"],\n",
    "            \"quantiles\": quantiles\n",
    "        }\n",
    "        \n",
    "        http_request_data = {\n",
    "            \"instances\": [instance],\n",
    "            \"configuration\": configuration\n",
    "        }\n",
    "        \n",
    "        return json.dumps(http_request_data).encode('utf-8')\n",
    "    \n",
    "    def __decode_response(self, response, freq, prediction_time, return_samples):\n",
    "        # we only sent one time series so we only receive one in return\n",
    "        # however, if possible one will pass multiple time series as predictions will then be faster\n",
    "        predictions = json.loads(response.decode('utf-8'))['predictions'][0]\n",
    "        prediction_length = len(next(iter(predictions['quantiles'].values())))\n",
    "        prediction_index = pd.DatetimeIndex(start=prediction_time, freq=freq, periods=prediction_length)        \n",
    "        if return_samples:\n",
    "            dict_of_samples = {'sample_' + str(i): s for i, s in enumerate(predictions['samples'])}\n",
    "        else:\n",
    "            dict_of_samples = {}\n",
    "        return pd.DataFrame(data={**predictions['quantiles'], **dict_of_samples}, index=prediction_index)\n",
    "\n",
    "    def set_frequency(self, freq):\n",
    "        self.freq = freq\n",
    "        \n",
    "def encode_target(ts):\n",
    "    return [x if np.isfinite(x) else \"NaN\" for x in ts]        \n",
    "\n",
    "def series_to_dict(ts, cat=None, dynamic_feat=None):\n",
    "    \"\"\"Given a pandas.Series object, returns a dictionary encoding the time series.\n",
    "\n",
    "    ts -- a pands.Series object with the target time series\n",
    "    cat -- an integer indicating the time series category\n",
    "\n",
    "    Return value: a dictionary\n",
    "    \"\"\"\n",
    "    obj = {\"start\": str(ts.index[0]), \"target\": encode_target(ts)}\n",
    "    if cat is not None:\n",
    "        obj[\"cat\"] = cat\n",
    "    if dynamic_feat is not None:\n",
    "        obj[\"dynamic_feat\"] = dynamic_feat        \n",
    "    return obj"
   ]
  },
  {
   "cell_type": "markdown",
   "metadata": {},
   "source": [
    "Now we can deploy the model and create and endpoint that can be queried using our custom DeepARPredictor class."
   ]
  },
  {
   "cell_type": "code",
   "execution_count": null,
   "metadata": {},
   "outputs": [],
   "source": [
    "predictor = estimator.deploy(\n",
    "    initial_instance_count=1,\n",
    "    instance_type='ml.m4.xlarge',\n",
    "    predictor_cls=DeepARPredictor)"
   ]
  },
  {
   "cell_type": "markdown",
   "metadata": {},
   "source": [
    "### Make predictions and plot results"
   ]
  },
  {
   "cell_type": "markdown",
   "metadata": {},
   "source": [
    "Now we can use the `predictor` object to generate predictions."
   ]
  },
  {
   "cell_type": "code",
   "execution_count": null,
   "metadata": {},
   "outputs": [],
   "source": [
    "predictor.predict(ts=timeseries[120], quantiles=[0.10, 0.5, 0.90]).head()"
   ]
  },
  {
   "cell_type": "markdown",
   "metadata": {},
   "source": [
    "Below we define a plotting function that queries the model and displays the forecast."
   ]
  },
  {
   "cell_type": "code",
   "execution_count": null,
   "metadata": {},
   "outputs": [],
   "source": [
    "def plot(\n",
    "    predictor, \n",
    "    target_ts, \n",
    "    cat=None, \n",
    "    dynamic_feat=None, \n",
    "    forecast_date=end_training, \n",
    "    show_samples=False, \n",
    "    plot_history=7 * 12,\n",
    "    confidence=80\n",
    "):\n",
    "    print(\"calling served model to generate predictions starting from {}\".format(str(forecast_date)))\n",
    "    assert(confidence > 50 and confidence < 100)\n",
    "    low_quantile = 0.5 - confidence * 0.005\n",
    "    up_quantile = confidence * 0.005 + 0.5\n",
    "        \n",
    "    # we first construct the argument to call our model\n",
    "    args = {\n",
    "        \"ts\": target_ts[:forecast_date],\n",
    "        \"return_samples\": show_samples,\n",
    "        \"quantiles\": [low_quantile, 0.5, up_quantile],\n",
    "        \"num_samples\": 100\n",
    "    }\n",
    "\n",
    "\n",
    "    if dynamic_feat is not None:\n",
    "        args[\"dynamic_feat\"] = dynamic_feat\n",
    "        fig = plt.figure(figsize=(20, 6))\n",
    "        ax = plt.subplot(2, 1, 1)\n",
    "    else:\n",
    "        fig = plt.figure(figsize=(20, 3))\n",
    "        ax = plt.subplot(1,1,1)\n",
    "    \n",
    "    if cat is not None:\n",
    "        args[\"cat\"] = cat\n",
    "        ax.text(0.9, 0.9, 'cat = {}'.format(cat), transform=ax.transAxes)\n",
    "\n",
    "    # call the end point to get the prediction\n",
    "    prediction = predictor.predict(**args)\n",
    "\n",
    "    # plot the samples\n",
    "    if show_samples: \n",
    "        for key in prediction.keys():\n",
    "            if \"sample\" in key:\n",
    "                prediction[key].plot(color='lightskyblue', alpha=0.2, label='_nolegend_')\n",
    "                \n",
    "                \n",
    "    # plot the target\n",
    "    target_section = target_ts[forecast_date-plot_history:forecast_date+prediction_length]\n",
    "    target_section.plot(color=\"black\", label='target')\n",
    "    \n",
    "    # plot the confidence interval and the median predicted\n",
    "    ax.fill_between(\n",
    "        prediction[str(low_quantile)].index, \n",
    "        prediction[str(low_quantile)].values, \n",
    "        prediction[str(up_quantile)].values, \n",
    "        color=\"b\", alpha=0.3, label='{}% confidence interval'.format(confidence)\n",
    "    )\n",
    "    prediction[\"0.5\"].plot(color=\"b\", label='P50')\n",
    "    ax.legend(loc=2)    \n",
    "    \n",
    "    # fix the scale as the samples may change it\n",
    "    ax.set_ylim(target_section.min() * 0.5, target_section.max() * 1.5)\n",
    "    \n",
    "    if dynamic_feat is not None:\n",
    "        for i, f in enumerate(dynamic_feat, start=1):\n",
    "            ax = plt.subplot(len(dynamic_feat) * 2, 1, len(dynamic_feat) + i, sharex=ax)\n",
    "            feat_ts = pd.Series(\n",
    "                index=pd.DatetimeIndex(start=target_ts.index[0], freq=target_ts.index.freq, periods=len(f)),\n",
    "                data=f\n",
    "            )\n",
    "            feat_ts[forecast_date-plot_history:forecast_date+prediction_length].plot(ax=ax, color='g')"
   ]
  },
  {
   "cell_type": "markdown",
   "metadata": {},
   "source": [
    "We can interact with the function previously defined, to look at the forecast of any customer at any point in (future) time. \n",
    "\n",
    "For each request, the predictions are obtained by calling our served model on the fly.\n",
    "\n",
    "Here we forecast the consumption of an office after week-end (note the lower week-end consumption). \n",
    "You can select any time series and any forecast date, just click on `Run Interact` to generate the predictions from our served endpoint and see the plot."
   ]
  },
  {
   "cell_type": "code",
   "execution_count": null,
   "metadata": {},
   "outputs": [],
   "source": [
    "style = {'description_width': 'initial'}"
   ]
  },
  {
   "cell_type": "code",
   "execution_count": null,
   "metadata": {},
   "outputs": [],
   "source": [
    "@interact_manual(\n",
    "    customer_id=IntSlider(min=0, max=369, value=91, style=style), \n",
    "    forecast_day=IntSlider(min=0, max=100, value=51, style=style),\n",
    "    confidence=IntSlider(min=60, max=95, value=80, step=5, style=style),\n",
    "    history_weeks_plot=IntSlider(min=1, max=20, value=1, style=style),\n",
    "    show_samples=Checkbox(value=False),\n",
    "    continuous_update=False\n",
    ")\n",
    "def plot_interact(customer_id, forecast_day, confidence, history_weeks_plot, show_samples):\n",
    "    plot(\n",
    "        predictor,\n",
    "        target_ts=timeseries[customer_id],\n",
    "        forecast_date=end_training + datetime.timedelta(days=forecast_day),\n",
    "        show_samples=show_samples,\n",
    "        plot_history=history_weeks_plot * 12 * 7,\n",
    "        confidence=confidence\n",
    "    )"
   ]
  },
  {
   "cell_type": "markdown",
   "metadata": {
    "collapsed": true
   },
   "source": [
    "# Additional features\n",
    "\n",
    "We have seen how to prepare a dataset and run DeepAR for a simple example.\n",
    "\n",
    "In addition DeepAR supports the following features:\n",
    "\n",
    "* missing values: DeepAR can handle missing values in the time series during training as well as for inference.\n",
    "* Additional time features: DeepAR provides a set default time series features such as hour of day etc. However, you can provide additional feature time series via the `dynamic_feat` field. \n",
    "* generalize frequencies: any integer multiple of the previously supported base frequencies (minutes `min`, hours `H`, days `D`, weeks `W`, month `M`) are now allowed; e.g., `15min`. We already demonstrated this above by using `2H` frequency.\n",
    "* categories: If your time series belong to different groups (e.g. types of product, regions, etc), this information can be encoded as one or more categorical features using the `cat` field.\n",
    "\n",
    "We will now demonstrate the missing values and time features support. For this part we will reuse the electricity dataset but will do some artificial changes to demonstrate the new features: \n",
    "* We will randomly mask parts of the time series to demonstrate the missing values support.\n",
    "* We will include a \"special-day\" that occurs at different days for different time series during this day we introduce a strong up-lift\n",
    "* We train the model on this dataset giving \"special-day\" as a custom time series feature"
   ]
  },
  {
   "cell_type": "markdown",
   "metadata": {},
   "source": [
    "## Prepare dataset"
   ]
  },
  {
   "cell_type": "markdown",
   "metadata": {},
   "source": [
    "As discussed above we will create a \"special-day\" feature and create an up-lift for the time series during this day. This simulates real world application where you may have things like promotions of a product for a certain time or a special event that influences your time series. "
   ]
  },
  {
   "cell_type": "code",
   "execution_count": null,
   "metadata": {},
   "outputs": [],
   "source": [
    "def create_special_day_feature(ts, fraction=0.05):\n",
    "    # First select random day indices (plus the forecast day)\n",
    "    num_days = (ts.index[-1] - ts.index[0]).days\n",
    "    rand_indices = list(np.random.randint(0, num_days, int(num_days * 0.1))) + [num_days]\n",
    "    \n",
    "    feature_value = np.zeros_like(ts)\n",
    "    for i in rand_indices:\n",
    "        feature_value[i * 12: (i + 1) * 12] = 1.0\n",
    "    feature = pd.Series(index=ts.index, data=feature_value)\n",
    "    return feature\n",
    "\n",
    "def drop_at_random(ts, drop_probability=0.1):\n",
    "    assert(0 <= drop_probability < 1)\n",
    "    random_mask = np.random.random(len(ts)) < drop_probability\n",
    "    return ts.mask(random_mask)"
   ]
  },
  {
   "cell_type": "code",
   "execution_count": null,
   "metadata": {},
   "outputs": [],
   "source": [
    "special_day_features = [create_special_day_feature(ts) for ts in timeseries]"
   ]
  },
  {
   "cell_type": "markdown",
   "metadata": {},
   "source": [
    "We now create the up-lifted time series and randomly remove time points.\n",
    "\n",
    "The figures below show some example time series and the `special_day` feature value in green. "
   ]
  },
  {
   "cell_type": "code",
   "execution_count": null,
   "metadata": {},
   "outputs": [],
   "source": [
    "timeseries_uplift = [ts * (1.0 + feat) for ts, feat in zip(timeseries, special_day_features)]\n",
    "time_series_processed = [drop_at_random(ts) for ts in timeseries_uplift]"
   ]
  },
  {
   "cell_type": "code",
   "execution_count": null,
   "metadata": {},
   "outputs": [],
   "source": [
    "fig, axs = plt.subplots(5, 2, figsize=(20, 20), sharex=True)\n",
    "axx = axs.ravel()\n",
    "for i in range(0, 10):\n",
    "    ax = axx[i]\n",
    "    ts = time_series_processed[i][:400]\n",
    "    ts.plot(ax=ax)\n",
    "    ax.set_ylim(-0.1 * ts.max(), ts.max())\n",
    "    ax2 = ax.twinx()\n",
    "    special_day_features[i][:400].plot(ax=ax2, color='g')\n",
    "    ax2.set_ylim(-0.2, 7)"
   ]
  },
  {
   "cell_type": "code",
   "execution_count": null,
   "metadata": {},
   "outputs": [],
   "source": [
    "# %%time\n",
    "\n",
    "# training_data_new_features = [\n",
    "#     {\n",
    "#         \"start\": str(start_dataset),\n",
    "#         \"target\": encode_target(ts[start_dataset:end_training]),\n",
    "#         \"dynamic_feat\": [special_day_features[i][start_dataset:end_training].tolist()]\n",
    "#     }\n",
    "#     for i, ts in enumerate(time_series_processed)\n",
    "# ]\n",
    "# print(len(training_data_new_features))\n",
    "\n",
    "# # as in our previous example, we do a rolling evaluation over the next 7 days\n",
    "# num_test_windows = 7\n",
    "\n",
    "# test_data_new_features = [\n",
    "#     {\n",
    "#         \"start\": str(start_dataset),\n",
    "#         \"target\": encode_target(ts[start_dataset:end_training + 2*k*prediction_length]),\n",
    "#         \"dynamic_feat\": [special_day_features[i][start_dataset:end_training + 2*k*prediction_length].tolist()]\n",
    "#     }\n",
    "#     for k in range(1, num_test_windows + 1) \n",
    "#     for i, ts in enumerate(timeseries_uplift)\n",
    "# ]"
   ]
  },
  {
   "cell_type": "code",
   "execution_count": null,
   "metadata": {},
   "outputs": [],
   "source": [
    "# arne_training_data_new_features = []\n",
    "# rowcnt = 0\n",
    "# # print(arne_data.iloc[0:0+30,1].tolist())\n",
    "# arne_start_dataset = pd.Timestamp(\"1994-01-01 00:00:00\", freq=freq)\n",
    "# print( str(arne_start_dataset) )\n",
    "# # print( str(arne_start_dataset + pd.Timedelta(days=30)) )\n",
    "# while rowcnt < 3990:\n",
    "#     tmp_dict = {}\n",
    "#     tmp_dict[\"start\"] = str(arne_start_dataset)\n",
    "#     tmp_dict[\"target\"] = arne_data.iloc[rowcnt:rowcnt+arne_ysize,2].tolist()    \n",
    "#     rowcnt = rowcnt + arne_ysize\n",
    "#     arne_start_dataset = arne_start_dataset + pd.Timedelta(days=arne_ysize)\n",
    "#     arne_training_data.append(tmp_dict)\n",
    "\n",
    "# print( str(arne_start_dataset) )\n",
    "# print(len(arne_training_data))"
   ]
  },
  {
   "cell_type": "code",
   "execution_count": null,
   "metadata": {},
   "outputs": [],
   "source": [
    "def check_dataset_consistency(train_dataset, test_dataset=None):\n",
    "    d = train_dataset[0]\n",
    "    has_dynamic_feat = 'dynamic_feat' in d\n",
    "    if has_dynamic_feat:\n",
    "        num_dynamic_feat = len(d['dynamic_feat'])\n",
    "    has_cat = 'cat' in d\n",
    "    if has_cat:\n",
    "        num_cat = len(d['cat'])\n",
    "    \n",
    "    def check_ds(ds):\n",
    "        for i, d in enumerate(ds):\n",
    "            if has_dynamic_feat:\n",
    "                assert 'dynamic_feat' in d\n",
    "                assert num_dynamic_feat == len(d['dynamic_feat'])\n",
    "                for f in d['dynamic_feat']:\n",
    "                    assert len(d['target']) == len(f)\n",
    "            if has_cat:\n",
    "                assert 'cat' in d\n",
    "                assert len(d['cat']) == num_cat\n",
    "    check_ds(train_dataset)\n",
    "    if test_dataset is not None:\n",
    "        check_ds(test_dataset)\n",
    "        \n",
    "check_dataset_consistency(training_data_new_features, test_data_new_features)"
   ]
  },
  {
   "cell_type": "code",
   "execution_count": null,
   "metadata": {},
   "outputs": [],
   "source": [
    "%%time\n",
    "write_dicts_to_file(\"train_new_features.json\", training_data_new_features)\n",
    "write_dicts_to_file(\"test_new_features.json\", test_data_new_features)"
   ]
  },
  {
   "cell_type": "code",
   "execution_count": null,
   "metadata": {},
   "outputs": [],
   "source": [
    "%%time\n",
    "\n",
    "s3_data_path_new_features = \"s3://{}/{}-new-features/data\".format(s3_bucket, s3_prefix)\n",
    "s3_output_path_new_features = \"s3://{}/{}-new-features/output\".format(s3_bucket, s3_prefix)\n",
    "\n",
    "print('Uploading to S3 this may take a few minutes depending on your connection.')\n",
    "copy_to_s3(\"train_new_features.json\", s3_data_path_new_features + \"/train/train_new_features.json\", override=True)\n",
    "copy_to_s3(\"test_new_features.json\", s3_data_path_new_features + \"/test/test_new_features.json\", override=True)"
   ]
  },
  {
   "cell_type": "code",
   "execution_count": null,
   "metadata": {},
   "outputs": [],
   "source": [
    "%%time\n",
    "estimator_new_features = sagemaker.estimator.Estimator(\n",
    "    sagemaker_session=sagemaker_session,\n",
    "    image_name=image_name,\n",
    "    role=role,\n",
    "    train_instance_count=1,\n",
    "    train_instance_type='ml.c4.2xlarge',\n",
    "    base_job_name='deepar-electricity-demo-new-features',\n",
    "    output_path=s3_output_path_new_features\n",
    ")\n",
    "\n",
    "hyperparameters = {\n",
    "    \"time_freq\": freq,\n",
    "    \"context_length\": str(context_length),\n",
    "    \"prediction_length\": str(prediction_length),\n",
    "    \"epochs\": \"400\",\n",
    "    \"learning_rate\": \"5E-4\",\n",
    "    \"mini_batch_size\": \"64\",\n",
    "    \"early_stopping_patience\": \"40\",\n",
    "    \"num_dynamic_feat\": \"auto\",  # this will use the `dynamic_feat` field if it's present in the data\n",
    "}\n",
    "estimator_new_features.set_hyperparameters(**hyperparameters)\n",
    "\n",
    "estimator_new_features.fit(\n",
    "    inputs={\n",
    "        \"train\": \"{}/train/\".format(s3_data_path_new_features),\n",
    "        \"test\": \"{}/test/\".format(s3_data_path_new_features)\n",
    "    }, \n",
    "    wait=True\n",
    ")"
   ]
  },
  {
   "cell_type": "markdown",
   "metadata": {},
   "source": [
    "As before, we spawn an endpoint to visualize our forecasts on examples we send on the fly."
   ]
  },
  {
   "cell_type": "code",
   "execution_count": null,
   "metadata": {},
   "outputs": [],
   "source": [
    "%%time\n",
    "predictor_new_features = estimator_new_features.deploy(\n",
    "    initial_instance_count=1,\n",
    "    instance_type='ml.m4.xlarge',\n",
    "    predictor_cls=DeepARPredictor)"
   ]
  },
  {
   "cell_type": "code",
   "execution_count": null,
   "metadata": {},
   "outputs": [],
   "source": [
    "customer_id = 120\n",
    "predictor_new_features.predict(\n",
    "    ts=time_series_processed[customer_id][:-prediction_length], \n",
    "    dynamic_feat=[special_day_features[customer_id].tolist()], \n",
    "    quantiles=[0.1, 0.5, 0.9]\n",
    ").head()"
   ]
  },
  {
   "cell_type": "markdown",
   "metadata": {},
   "source": [
    "As before, we can query the endpoint to see predictions for arbitrary time series and time points."
   ]
  },
  {
   "cell_type": "code",
   "execution_count": null,
   "metadata": {},
   "outputs": [],
   "source": [
    "@interact_manual(\n",
    "    customer_id=IntSlider(min=0, max=369, value=13, style=style), \n",
    "    forecast_day=IntSlider(min=0, max=100, value=21, style=style),\n",
    "    confidence=IntSlider(min=60, max=95, value=80, step=5, style=style),\n",
    "    missing_ratio=FloatSlider(min=0.0, max=0.95, value=0.2, step=0.05, style=style),\n",
    "    show_samples=Checkbox(value=False),\n",
    "    continuous_update=False\n",
    ")\n",
    "def plot_interact(customer_id, forecast_day, confidence, missing_ratio, show_samples): \n",
    "    forecast_date = end_training + datetime.timedelta(days=forecast_day)\n",
    "    target = time_series_processed[customer_id][start_dataset:forecast_date + prediction_length]\n",
    "    target = drop_at_random(target, missing_ratio)\n",
    "    dynamic_feat = [special_day_features[customer_id][start_dataset:forecast_date + prediction_length].tolist()]\n",
    "    plot(\n",
    "        predictor_new_features,\n",
    "        target_ts=target, \n",
    "        dynamic_feat=dynamic_feat,\n",
    "        forecast_date=forecast_date,\n",
    "        show_samples=show_samples, \n",
    "        plot_history=7*12,\n",
    "        confidence=confidence\n",
    "    )"
   ]
  },
  {
   "cell_type": "markdown",
   "metadata": {},
   "source": [
    "### Delete endpoints"
   ]
  },
  {
   "cell_type": "code",
   "execution_count": null,
   "metadata": {},
   "outputs": [],
   "source": [
    "predictor.delete_endpoint()"
   ]
  },
  {
   "cell_type": "code",
   "execution_count": null,
   "metadata": {},
   "outputs": [],
   "source": [
    "predictor_new_features.delete_endpoint()"
   ]
  }
 ],
 "metadata": {
  "kernelspec": {
   "display_name": "conda_mxnet_p36",
   "language": "python",
   "name": "conda_mxnet_p36"
  },
  "language_info": {
   "codemirror_mode": {
    "name": "ipython",
    "version": 3
   },
   "file_extension": ".py",
   "mimetype": "text/x-python",
   "name": "python",
   "nbconvert_exporter": "python",
   "pygments_lexer": "ipython3",
   "version": "3.6.5"
  },
  "notice": "Copyright 2018 Amazon.com, Inc. or its affiliates. All Rights Reserved.  Licensed under the Apache License, Version 2.0 (the \"License\"). You may not use this file except in compliance with the License. A copy of the License is located at http://aws.amazon.com/apache2.0/ or in the \"license\" file accompanying this file. This file is distributed on an \"AS IS\" BASIS, WITHOUT WARRANTIES OR CONDITIONS OF ANY KIND, either express or implied. See the License for the specific language governing permissions and limitations under the License."
 },
 "nbformat": 4,
 "nbformat_minor": 2
}
